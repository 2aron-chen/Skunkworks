{
 "cells": [
  {
   "cell_type": "code",
   "execution_count": 1,
   "id": "83936a08",
   "metadata": {},
   "outputs": [],
   "source": [
    "from torch.utils.data import DataLoader\n",
    "import torch\n",
    "import torch.nn as nn\n",
    "import torch.nn.functional as F\n",
    "import pickle\n",
    "from statistics import median, mean\n",
    "from matplotlib import pyplot as plt\n",
    "import numpy as np\n",
    "import json\n",
    "from tqdm import tqdm\n",
    "from glob import glob\n",
    "import os\n",
    "import sys\n",
    "sys.path.insert(0,\"/study/mrphys/skunkworks/kk/mriUnet\")\n",
    "import unet\n",
    "from torchvision import transforms\n",
    "from torch.utils.data import Dataset\n",
    "from sklearn.model_selection import KFold as kf\n",
    "from pytorch_msssim import ssim, ms_ssim, SSIM, MS_SSIM\n",
    "import h5py"
   ]
  },
  {
   "cell_type": "code",
   "execution_count": 2,
   "id": "29b54e79",
   "metadata": {},
   "outputs": [],
   "source": [
    "allImages = sorted(glob(\"/study/mrphys/skunkworks/training_data//mover01/*/\", recursive=True))[0:40]"
   ]
  },
  {
   "cell_type": "code",
   "execution_count": 3,
   "id": "bfeea89c",
   "metadata": {},
   "outputs": [],
   "source": [
    "def getComplexSlices(path):\n",
    "\n",
    "    with h5py.File(path,'r') as hf:\n",
    "        prefix = 'C_000_0'\n",
    "        imagestackReal = []\n",
    "        imagestackImag = []\n",
    "        for i in range(10):\n",
    "            n = prefix + str(i).zfill(2)\n",
    "            image = hf['Images'][n]\n",
    "            imagestackReal.append(np.array(image['real']))\n",
    "            imagestackImag.append(np.array(image['imag']))\n",
    "            if i==0:\n",
    "                normScale = np.abs(np.array(image['real']+image['real']*1j)).max()\n",
    "        imagestackReal = np.array(imagestackReal)/normScale\n",
    "        imagestackImag = np.array(imagestackImag)/normScale\n",
    "        \n",
    "    return imagestackReal+imagestackImag*1j, normScale\n",
    "\n",
    "class mriNoisyDataset(Dataset):\n",
    "    def __init__(self, sample):\n",
    "        self.originalPath = []\n",
    "        self.accelPath = [] \n",
    "\n",
    "        allImages = sorted(glob(\"/study/mrphys/skunkworks/training_data//mover01/*/\", recursive=True))[0:40]\n",
    "        folderName  = allImages[sample]\n",
    "        self.accelPath = folderName +'processed_data/acc_2min/C.h5'\n",
    "        self.accelFile, self.scale = getComplexSlices(self.accelPath)\n",
    "\n",
    "    def __getitem__(self, index):\n",
    "        if index<256:\n",
    "            return self.accelFile[:,index,:,:]\n",
    "        elif index<512:\n",
    "            index = index-256\n",
    "            return self.accelFile[:,:,index,:]\n",
    "        else:\n",
    "            index = index-512\n",
    "            return self.accelFile[:,:,:,index]\n",
    "        \n",
    "    def __len__(self):\n",
    "        return 768"
   ]
  },
  {
   "cell_type": "code",
   "execution_count": 4,
   "id": "b53fd96e",
   "metadata": {},
   "outputs": [],
   "source": [
    "def predict(model, dataset, device = 5):\n",
    "    model.eval()\n",
    "    model.to(device)\n",
    "    X = []\n",
    "    Y = []\n",
    "    Z = []\n",
    "    for i, noisy in enumerate(dataset):\n",
    "        noisy = torch.tensor(noisy).to(device).unsqueeze(0)\n",
    "        with torch.no_grad():\n",
    "            p = model(noisy).cpu().numpy() * dataset.scale\n",
    "            if i<256:\n",
    "                X.append(p)\n",
    "            elif i<512:\n",
    "                Y.append(p)\n",
    "            else:\n",
    "                Z.append(p)\n",
    "                \n",
    "    return np.vstack(X).transpose(1,0,2,3), np.vstack(Y).transpose(1,2,0,3), np.vstack(Z).transpose(1,2,3,0)"
   ]
  },
  {
   "cell_type": "code",
   "execution_count": 5,
   "id": "b96e8135",
   "metadata": {},
   "outputs": [
    {
     "name": "stdout",
     "output_type": "stream",
     "text": [
      "Crop amount [(-4, -4, -4, -4), (-16, -16, -16, -16), (-40, -40, -40, -40)]\n"
     ]
    },
    {
     "name": "stderr",
     "output_type": "stream",
     "text": [
      "100%|█████████████████████████████████████████████████████████████████████████████████████| 8/8 [07:47<00:00, 58.38s/it]\n"
     ]
    },
    {
     "name": "stdout",
     "output_type": "stream",
     "text": [
      "Crop amount [(-4, -4, -4, -4), (-16, -16, -16, -16), (-40, -40, -40, -40)]\n"
     ]
    },
    {
     "name": "stderr",
     "output_type": "stream",
     "text": [
      "100%|█████████████████████████████████████████████████████████████████████████████████████| 8/8 [04:05<00:00, 30.75s/it]\n"
     ]
    },
    {
     "name": "stdout",
     "output_type": "stream",
     "text": [
      "Crop amount [(-4, -4, -4, -4), (-16, -16, -16, -16), (-40, -40, -40, -40)]\n"
     ]
    },
    {
     "name": "stderr",
     "output_type": "stream",
     "text": [
      "100%|█████████████████████████████████████████████████████████████████████████████████████| 8/8 [04:20<00:00, 32.60s/it]\n"
     ]
    },
    {
     "name": "stdout",
     "output_type": "stream",
     "text": [
      "Crop amount [(-4, -4, -4, -4), (-16, -16, -16, -16), (-40, -40, -40, -40)]\n"
     ]
    },
    {
     "name": "stderr",
     "output_type": "stream",
     "text": [
      "100%|█████████████████████████████████████████████████████████████████████████████████████| 8/8 [04:03<00:00, 30.48s/it]\n"
     ]
    },
    {
     "name": "stdout",
     "output_type": "stream",
     "text": [
      "Crop amount [(-4, -4, -4, -4), (-16, -16, -16, -16), (-40, -40, -40, -40)]\n"
     ]
    },
    {
     "name": "stderr",
     "output_type": "stream",
     "text": [
      "100%|█████████████████████████████████████████████████████████████████████████████████████| 8/8 [04:16<00:00, 32.05s/it]\n"
     ]
    }
   ],
   "source": [
    "folds = 5\n",
    "kfsplitter = kf(n_splits=folds, shuffle=True, random_state=69420)\n",
    "for i, (train_index, test_index) in enumerate(kfsplitter.split(allImages)):\n",
    "    fold = i+1\n",
    "    model = unet.UNet(\n",
    "        10,\n",
    "        10,\n",
    "        f_maps=32,\n",
    "        layer_order=['separable convolution', 'relu'],\n",
    "        depth=4,\n",
    "        layer_growth=2.0,\n",
    "        residual=True,\n",
    "        complex_input=True,\n",
    "        complex_kernel=True,\n",
    "        ndims=2,\n",
    "        padding=1\n",
    "    )\n",
    "    name = f'fullDenoiser_{fold}'\n",
    "    model.load_state_dict(torch.load(f'/study/mrphys/skunkworks/kk/outputs/{name}/weights/{name}_BEST.pth'))\n",
    "    for index in tqdm(test_index):\n",
    "        dataset = mriNoisyDataset(index)\n",
    "        X, Y, Z = predict(model, dataset)\n",
    "        pred = (X+Y+Z)/3\n",
    "        np.save(f'pred/denoised_{index}.npy',np.array(pred))"
   ]
  },
  {
   "cell_type": "code",
   "execution_count": 8,
   "id": "819f39ca",
   "metadata": {},
   "outputs": [
    {
     "name": "stderr",
     "output_type": "stream",
     "text": [
      "0it [00:00, ?it/s]/tmp/ipykernel_861325/3498154338.py:11: ComplexWarning: Casting complex values to real discards the imaginary part\n",
      "  temp = pred.astype(np.dtype([('real','f'),('imag','f')]))\n",
      "40it [03:02,  4.56s/it]\n"
     ]
    }
   ],
   "source": [
    "allImages = sorted(glob(\"/study/mrphys/skunkworks/training_data//mover01/*/\", recursive=True))[0:40]\n",
    "try:\n",
    "    os.mkdir('/scratch/mrphys/denoised')\n",
    "except:\n",
    "    pass\n",
    "\n",
    "for i, imgIndex in tqdm(enumerate(range(len(allImages)))):\n",
    "    name = allImages[imgIndex].split('/')[-2]\n",
    "    with h5py.File(f'/scratch/mrphys/denoised/denoised_{name}.h5','w') as f:\n",
    "        pred = np.load(f'pred/denoised_{i}.npy')\n",
    "        temp = pred.astype(np.dtype([('real','f'),('imag','f')]))\n",
    "        temp['imag'] = pred.imag\n",
    "        pred = temp\n",
    "        grp = f.create_group('Images')\n",
    "        for n in range(10):\n",
    "            grp.create_dataset('C_000_0'+ str(n).zfill(2), data=pred[n])"
   ]
  },
  {
   "cell_type": "code",
   "execution_count": null,
   "id": "320f592c",
   "metadata": {},
   "outputs": [],
   "source": []
  }
 ],
 "metadata": {
  "kernelspec": {
   "display_name": "Python 3 (ipykernel)",
   "language": "python",
   "name": "python3"
  },
  "language_info": {
   "codemirror_mode": {
    "name": "ipython",
    "version": 3
   },
   "file_extension": ".py",
   "mimetype": "text/x-python",
   "name": "python",
   "nbconvert_exporter": "python",
   "pygments_lexer": "ipython3",
   "version": "3.9.13"
  }
 },
 "nbformat": 4,
 "nbformat_minor": 5
}
