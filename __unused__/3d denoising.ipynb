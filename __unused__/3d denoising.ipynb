{
 "cells": [
  {
   "cell_type": "code",
   "execution_count": 1,
   "id": "1b2897dd",
   "metadata": {},
   "outputs": [],
   "source": [
    "from torch.utils.data import DataLoader\n",
    "import torch\n",
    "import torch.nn as nn\n",
    "import torch.nn.functional as F\n",
    "import pickle\n",
    "from torchmetrics import StructuralSimilarityIndexMeasure\n",
    "from statistics import median, mean\n",
    "from matplotlib import pyplot as plt\n",
    "import numpy as np\n",
    "from pytorch_msssim import ssim, ms_ssim, SSIM, MS_SSIM\n",
    "from torchsummary import summary\n",
    "import json\n",
    "from tqdm import tqdm\n",
    "from glob import glob\n",
    "import sys\n",
    "path = \"/study/mrphys/skunkworks/kk/mriUnet\"\n",
    "sys.path.insert(0,path)\n",
    "import unet\n",
    "from torchvision import transforms\n",
    "from torch.utils.data import Dataset\n",
    "import h5py\n",
    "from sklearn.model_selection import KFold as kf\n",
    "import os\n",
    "\n",
    "allImages = sorted(glob(\"/study/mrphys/skunkworks/training_data//mover01/*/\", recursive=True))"
   ]
  },
  {
   "cell_type": "code",
   "execution_count": 2,
   "id": "a746e26c",
   "metadata": {},
   "outputs": [],
   "source": [
    "def slice2d(array, discardZero=False):\n",
    "    '''\n",
    "    slice a 4d array of shape (c-channel, n, n, n) where n in the cube length\n",
    "    into 3d arrays slices of shape (c, n, n) per each 2d plane\n",
    "    '''\n",
    "    result = []\n",
    "    c, w, h, d = array.shape\n",
    "    assert (w==h)and(h==d)and(d==w), f\"Array must be cubic, got: {w}x{h}x{d}\"\n",
    "    for i in range(w):\n",
    "        result.append(array[:,i,:,:])\n",
    "        result.append(array[:,:,i,:])\n",
    "        result.append(array[:,:,:,i])\n",
    "    return np.array(result)"
   ]
  },
  {
   "cell_type": "code",
   "execution_count": 4,
   "id": "4567fcae",
   "metadata": {},
   "outputs": [],
   "source": [
    "def getComplexSlices(path, return_scale=False):\n",
    "\n",
    "    with h5py.File(path,'r') as hf:\n",
    "        prefix = 'C_000_0'\n",
    "        imagestackReal = []\n",
    "        imagestackImag = []\n",
    "        for i in range(10):\n",
    "            n = prefix + str(i).zfill(2)\n",
    "            image = hf['Images'][n]\n",
    "            imagestackReal.append(np.array(image['real']))\n",
    "            imagestackImag.append(np.array(image['imag']))\n",
    "            if i==0:\n",
    "                normScale = np.abs(np.array(image['real']+image['real']*1j)).max()\n",
    "        imagestackReal = np.array(imagestackReal)/normScale\n",
    "        imagestackImag = np.array(imagestackImag)/normScale\n",
    "        imagesliceReal = slice2d(imagestackReal)\n",
    "        imagesliceImag = slice2d(imagestackImag)\n",
    "        \n",
    "    if return_scale:\n",
    "        return imagesliceReal+imagesliceImag*1j, normScale\n",
    "    else:\n",
    "        return imagesliceReal+imagesliceImag*1j"
   ]
  },
  {
   "cell_type": "code",
   "execution_count": 5,
   "id": "d8c06750",
   "metadata": {},
   "outputs": [],
   "source": [
    "class mriSliceDataset(Dataset):\n",
    "    def __init__(self, sample):\n",
    "        self.originalPathList = []\n",
    "        self.accelPathList = []\n",
    "        self.originalFileList = []\n",
    "        self.accelFileList = []\n",
    "\n",
    "        allImages = sorted(glob(\"/study/mrphys/skunkworks/training_data//mover01/*/\", recursive=True))\n",
    "        folderName  = allImages[sample]\n",
    "        self.originalPathList.append(folderName + 'processed_data/C.h5')\n",
    "        self.accelPathList.append(folderName +'processed_data/acc_2min/C.h5')\n",
    "        \n",
    "        for originalPath, accelPath in zip(self.originalPathList, self.accelPathList):\n",
    "            self.originalFileList+= list(getComplexSlices(originalPath))\n",
    "            self.accelFileList+= list(getComplexSlices(accelPath))\n",
    "            print('Image ' + originalPath + ' loaded')\n",
    "\n",
    "    def __getitem__(self, index):\n",
    "        return self.accelFileList[index], self.originalFileList[index]\n",
    "\n",
    "    def __len__(self):\n",
    "        return len(self.accelFileList)"
   ]
  },
  {
   "cell_type": "code",
   "execution_count": 6,
   "id": "ca389d9d",
   "metadata": {},
   "outputs": [
    {
     "name": "stderr",
     "output_type": "stream",
     "text": [
      "\r",
      "  0%|                                                                                            | 0/65 [00:00<?, ?it/s]"
     ]
    },
    {
     "name": "stdout",
     "output_type": "stream",
     "text": [
      "Image /study/mrphys/skunkworks/training_data//mover01/M001/processed_data/C.h5 loaded\n"
     ]
    },
    {
     "name": "stderr",
     "output_type": "stream",
     "text": [
      "\r",
      "  2%|█▎                                                                                  | 1/65 [00:25<27:07, 25.43s/it]"
     ]
    },
    {
     "name": "stdout",
     "output_type": "stream",
     "text": [
      "Image /study/mrphys/skunkworks/training_data//mover01/M002/processed_data/C.h5 loaded\n"
     ]
    },
    {
     "name": "stderr",
     "output_type": "stream",
     "text": [
      "\r",
      "  3%|██▌                                                                                 | 2/65 [00:51<26:52, 25.60s/it]"
     ]
    },
    {
     "name": "stdout",
     "output_type": "stream",
     "text": [
      "Image /study/mrphys/skunkworks/training_data//mover01/M004/processed_data/C.h5 loaded\n"
     ]
    },
    {
     "name": "stderr",
     "output_type": "stream",
     "text": [
      "\r",
      "  5%|███▉                                                                                | 3/65 [01:16<26:14, 25.40s/it]"
     ]
    },
    {
     "name": "stdout",
     "output_type": "stream",
     "text": [
      "Image /study/mrphys/skunkworks/training_data//mover01/M005/processed_data/C.h5 loaded\n"
     ]
    },
    {
     "name": "stderr",
     "output_type": "stream",
     "text": [
      "\r",
      "  6%|█████▏                                                                              | 4/65 [01:41<25:54, 25.49s/it]"
     ]
    },
    {
     "name": "stdout",
     "output_type": "stream",
     "text": [
      "Image /study/mrphys/skunkworks/training_data//mover01/M006/processed_data/C.h5 loaded\n"
     ]
    },
    {
     "name": "stderr",
     "output_type": "stream",
     "text": [
      "\r",
      "  8%|██████▍                                                                             | 5/65 [02:06<25:19, 25.32s/it]"
     ]
    },
    {
     "name": "stdout",
     "output_type": "stream",
     "text": [
      "Image /study/mrphys/skunkworks/training_data//mover01/M007/processed_data/C.h5 loaded\n"
     ]
    },
    {
     "name": "stderr",
     "output_type": "stream",
     "text": [
      "\r",
      "  9%|███████▊                                                                            | 6/65 [02:31<24:43, 25.15s/it]"
     ]
    },
    {
     "name": "stdout",
     "output_type": "stream",
     "text": [
      "Image /study/mrphys/skunkworks/training_data//mover01/M008/processed_data/C.h5 loaded\n"
     ]
    },
    {
     "name": "stderr",
     "output_type": "stream",
     "text": [
      "\r",
      " 11%|█████████                                                                           | 7/65 [02:57<24:29, 25.34s/it]"
     ]
    },
    {
     "name": "stdout",
     "output_type": "stream",
     "text": [
      "Image /study/mrphys/skunkworks/training_data//mover01/M009/processed_data/C.h5 loaded\n"
     ]
    },
    {
     "name": "stderr",
     "output_type": "stream",
     "text": [
      "\r",
      " 12%|██████████▎                                                                         | 8/65 [03:25<24:53, 26.19s/it]"
     ]
    },
    {
     "name": "stdout",
     "output_type": "stream",
     "text": [
      "Image /study/mrphys/skunkworks/training_data//mover01/M010/processed_data/C.h5 loaded\n"
     ]
    },
    {
     "name": "stderr",
     "output_type": "stream",
     "text": [
      "\r",
      " 14%|███████████▋                                                                        | 9/65 [03:51<24:28, 26.23s/it]"
     ]
    },
    {
     "name": "stdout",
     "output_type": "stream",
     "text": [
      "Image /study/mrphys/skunkworks/training_data//mover01/M011/processed_data/C.h5 loaded\n"
     ]
    },
    {
     "name": "stderr",
     "output_type": "stream",
     "text": [
      "\r",
      " 15%|████████████▊                                                                      | 10/65 [04:18<24:05, 26.29s/it]"
     ]
    },
    {
     "name": "stdout",
     "output_type": "stream",
     "text": [
      "Image /study/mrphys/skunkworks/training_data//mover01/M012/processed_data/C.h5 loaded\n"
     ]
    },
    {
     "name": "stderr",
     "output_type": "stream",
     "text": [
      "\r",
      " 17%|██████████████                                                                     | 11/65 [04:44<23:39, 26.28s/it]"
     ]
    },
    {
     "name": "stdout",
     "output_type": "stream",
     "text": [
      "Image /study/mrphys/skunkworks/training_data//mover01/M013/processed_data/C.h5 loaded\n"
     ]
    },
    {
     "name": "stderr",
     "output_type": "stream",
     "text": [
      "\r",
      " 18%|███████████████▎                                                                   | 12/65 [05:10<23:11, 26.25s/it]"
     ]
    },
    {
     "name": "stdout",
     "output_type": "stream",
     "text": [
      "Image /study/mrphys/skunkworks/training_data//mover01/M014/processed_data/C.h5 loaded\n"
     ]
    },
    {
     "name": "stderr",
     "output_type": "stream",
     "text": [
      "\r",
      " 20%|████████████████▌                                                                  | 13/65 [05:37<22:48, 26.31s/it]"
     ]
    },
    {
     "name": "stdout",
     "output_type": "stream",
     "text": [
      "Image /study/mrphys/skunkworks/training_data//mover01/M015/processed_data/C.h5 loaded\n"
     ]
    },
    {
     "name": "stderr",
     "output_type": "stream",
     "text": [
      "\r",
      " 22%|█████████████████▉                                                                 | 14/65 [06:03<22:20, 26.28s/it]"
     ]
    },
    {
     "name": "stdout",
     "output_type": "stream",
     "text": [
      "Image /study/mrphys/skunkworks/training_data//mover01/M016/processed_data/C.h5 loaded\n"
     ]
    },
    {
     "name": "stderr",
     "output_type": "stream",
     "text": [
      "\r",
      " 23%|███████████████████▏                                                               | 15/65 [06:29<21:49, 26.19s/it]"
     ]
    },
    {
     "name": "stdout",
     "output_type": "stream",
     "text": [
      "Image /study/mrphys/skunkworks/training_data//mover01/M017/processed_data/C.h5 loaded\n"
     ]
    },
    {
     "name": "stderr",
     "output_type": "stream",
     "text": [
      "\r",
      " 25%|████████████████████▍                                                              | 16/65 [06:55<21:20, 26.13s/it]"
     ]
    },
    {
     "name": "stdout",
     "output_type": "stream",
     "text": [
      "Image /study/mrphys/skunkworks/training_data//mover01/M018/processed_data/C.h5 loaded\n"
     ]
    },
    {
     "name": "stderr",
     "output_type": "stream",
     "text": [
      "\r",
      " 26%|█████████████████████▋                                                             | 17/65 [07:22<21:05, 26.35s/it]"
     ]
    },
    {
     "name": "stdout",
     "output_type": "stream",
     "text": [
      "Image /study/mrphys/skunkworks/training_data//mover01/M019/processed_data/C.h5 loaded\n"
     ]
    },
    {
     "name": "stderr",
     "output_type": "stream",
     "text": [
      "\r",
      " 28%|██████████████████████▉                                                            | 18/65 [07:50<21:08, 26.99s/it]"
     ]
    },
    {
     "name": "stdout",
     "output_type": "stream",
     "text": [
      "Image /study/mrphys/skunkworks/training_data//mover01/M020/processed_data/C.h5 loaded\n"
     ]
    },
    {
     "name": "stderr",
     "output_type": "stream",
     "text": [
      "\r",
      " 29%|████████████████████████▎                                                          | 19/65 [08:17<20:45, 27.07s/it]"
     ]
    },
    {
     "name": "stdout",
     "output_type": "stream",
     "text": [
      "Image /study/mrphys/skunkworks/training_data//mover01/M022/processed_data/C.h5 loaded\n"
     ]
    },
    {
     "name": "stderr",
     "output_type": "stream",
     "text": [
      "\r",
      " 31%|█████████████████████████▌                                                         | 20/65 [08:43<20:04, 26.76s/it]"
     ]
    },
    {
     "name": "stdout",
     "output_type": "stream",
     "text": [
      "Image /study/mrphys/skunkworks/training_data//mover01/M023/processed_data/C.h5 loaded\n"
     ]
    },
    {
     "name": "stderr",
     "output_type": "stream",
     "text": [
      "\r",
      " 32%|██████████████████████████▊                                                        | 21/65 [09:11<19:50, 27.05s/it]"
     ]
    },
    {
     "name": "stdout",
     "output_type": "stream",
     "text": [
      "Image /study/mrphys/skunkworks/training_data//mover01/M024/processed_data/C.h5 loaded\n"
     ]
    },
    {
     "name": "stderr",
     "output_type": "stream",
     "text": [
      "\r",
      " 34%|████████████████████████████                                                       | 22/65 [09:38<19:23, 27.06s/it]"
     ]
    },
    {
     "name": "stdout",
     "output_type": "stream",
     "text": [
      "Image /study/mrphys/skunkworks/training_data//mover01/M025/processed_data/C.h5 loaded\n"
     ]
    },
    {
     "name": "stderr",
     "output_type": "stream",
     "text": [
      "\r",
      " 35%|█████████████████████████████▎                                                     | 23/65 [10:05<18:53, 26.99s/it]"
     ]
    },
    {
     "name": "stdout",
     "output_type": "stream",
     "text": [
      "Image /study/mrphys/skunkworks/training_data//mover01/M026/processed_data/C.h5 loaded\n"
     ]
    },
    {
     "name": "stderr",
     "output_type": "stream",
     "text": [
      "\r",
      " 37%|██████████████████████████████▋                                                    | 24/65 [10:32<18:26, 26.99s/it]"
     ]
    },
    {
     "name": "stdout",
     "output_type": "stream",
     "text": [
      "Image /study/mrphys/skunkworks/training_data//mover01/M027/processed_data/C.h5 loaded\n"
     ]
    },
    {
     "name": "stderr",
     "output_type": "stream",
     "text": [
      "\r",
      " 38%|███████████████████████████████▉                                                   | 25/65 [11:00<18:13, 27.33s/it]"
     ]
    },
    {
     "name": "stdout",
     "output_type": "stream",
     "text": [
      "Image /study/mrphys/skunkworks/training_data//mover01/M028/processed_data/C.h5 loaded\n"
     ]
    },
    {
     "name": "stderr",
     "output_type": "stream",
     "text": [
      "\r",
      " 40%|█████████████████████████████████▏                                                 | 26/65 [11:27<17:37, 27.10s/it]"
     ]
    },
    {
     "name": "stdout",
     "output_type": "stream",
     "text": [
      "Image /study/mrphys/skunkworks/training_data//mover01/M029/processed_data/C.h5 loaded\n"
     ]
    },
    {
     "name": "stderr",
     "output_type": "stream",
     "text": [
      "\r",
      " 42%|██████████████████████████████████▍                                                | 27/65 [11:54<17:11, 27.15s/it]"
     ]
    },
    {
     "name": "stdout",
     "output_type": "stream",
     "text": [
      "Image /study/mrphys/skunkworks/training_data//mover01/M030/processed_data/C.h5 loaded\n"
     ]
    },
    {
     "name": "stderr",
     "output_type": "stream",
     "text": [
      "\r",
      " 43%|███████████████████████████████████▊                                               | 28/65 [12:20<16:35, 26.90s/it]"
     ]
    },
    {
     "name": "stdout",
     "output_type": "stream",
     "text": [
      "Image /study/mrphys/skunkworks/training_data//mover01/M031/processed_data/C.h5 loaded\n"
     ]
    },
    {
     "name": "stderr",
     "output_type": "stream",
     "text": [
      "\r",
      " 45%|█████████████████████████████████████                                              | 29/65 [12:49<16:24, 27.36s/it]"
     ]
    },
    {
     "name": "stdout",
     "output_type": "stream",
     "text": [
      "Image /study/mrphys/skunkworks/training_data//mover01/M032/processed_data/C.h5 loaded\n"
     ]
    },
    {
     "name": "stderr",
     "output_type": "stream",
     "text": [
      "\r",
      " 46%|██████████████████████████████████████▎                                            | 30/65 [13:16<15:50, 27.16s/it]"
     ]
    },
    {
     "name": "stdout",
     "output_type": "stream",
     "text": [
      "Image /study/mrphys/skunkworks/training_data//mover01/M033/processed_data/C.h5 loaded\n"
     ]
    },
    {
     "name": "stderr",
     "output_type": "stream",
     "text": [
      "\r",
      " 48%|███████████████████████████████████████▌                                           | 31/65 [13:45<15:42, 27.73s/it]"
     ]
    },
    {
     "name": "stdout",
     "output_type": "stream",
     "text": [
      "Image /study/mrphys/skunkworks/training_data//mover01/M034/processed_data/C.h5 loaded\n"
     ]
    },
    {
     "name": "stderr",
     "output_type": "stream",
     "text": [
      "\r",
      " 49%|████████████████████████████████████████▊                                          | 32/65 [14:13<15:25, 28.06s/it]"
     ]
    },
    {
     "name": "stdout",
     "output_type": "stream",
     "text": [
      "Image /study/mrphys/skunkworks/training_data//mover01/M035/processed_data/C.h5 loaded\n"
     ]
    },
    {
     "name": "stderr",
     "output_type": "stream",
     "text": [
      "\r",
      " 51%|██████████████████████████████████████████▏                                        | 33/65 [14:45<15:29, 29.06s/it]"
     ]
    },
    {
     "name": "stdout",
     "output_type": "stream",
     "text": [
      "Image /study/mrphys/skunkworks/training_data//mover01/M036/processed_data/C.h5 loaded\n"
     ]
    },
    {
     "name": "stderr",
     "output_type": "stream",
     "text": [
      "\r",
      " 52%|███████████████████████████████████████████▍                                       | 34/65 [15:17<15:30, 30.02s/it]"
     ]
    },
    {
     "name": "stdout",
     "output_type": "stream",
     "text": [
      "Image /study/mrphys/skunkworks/training_data//mover01/M037/processed_data/C.h5 loaded\n"
     ]
    },
    {
     "name": "stderr",
     "output_type": "stream",
     "text": [
      "\r",
      " 54%|████████████████████████████████████████████▋                                      | 35/65 [15:51<15:38, 31.27s/it]"
     ]
    },
    {
     "name": "stdout",
     "output_type": "stream",
     "text": [
      "Image /study/mrphys/skunkworks/training_data//mover01/M040/processed_data/C.h5 loaded\n"
     ]
    },
    {
     "name": "stderr",
     "output_type": "stream",
     "text": [
      "\r",
      " 55%|█████████████████████████████████████████████▉                                     | 36/65 [16:27<15:44, 32.56s/it]"
     ]
    },
    {
     "name": "stdout",
     "output_type": "stream",
     "text": [
      "Image /study/mrphys/skunkworks/training_data//mover01/M041/processed_data/C.h5 loaded\n"
     ]
    },
    {
     "name": "stderr",
     "output_type": "stream",
     "text": [
      "\r",
      " 57%|███████████████████████████████████████████████▏                                   | 37/65 [16:56<14:43, 31.54s/it]"
     ]
    },
    {
     "name": "stdout",
     "output_type": "stream",
     "text": [
      "Image /study/mrphys/skunkworks/training_data//mover01/M042/processed_data/C.h5 loaded\n"
     ]
    },
    {
     "name": "stderr",
     "output_type": "stream",
     "text": [
      "\r",
      " 58%|████████████████████████████████████████████████▌                                  | 38/65 [17:27<14:08, 31.41s/it]"
     ]
    },
    {
     "name": "stdout",
     "output_type": "stream",
     "text": [
      "Image /study/mrphys/skunkworks/training_data//mover01/M043/processed_data/C.h5 loaded\n"
     ]
    },
    {
     "name": "stderr",
     "output_type": "stream",
     "text": [
      "\r",
      " 60%|█████████████████████████████████████████████████▊                                 | 39/65 [17:55<13:12, 30.50s/it]"
     ]
    },
    {
     "name": "stdout",
     "output_type": "stream",
     "text": [
      "Image /study/mrphys/skunkworks/training_data//mover01/M044/processed_data/C.h5 loaded\n"
     ]
    },
    {
     "name": "stderr",
     "output_type": "stream",
     "text": [
      "\r",
      " 62%|███████████████████████████████████████████████████                                | 40/65 [18:22<12:16, 29.46s/it]"
     ]
    },
    {
     "name": "stdout",
     "output_type": "stream",
     "text": [
      "Image /study/mrphys/skunkworks/training_data//mover01/M045/processed_data/C.h5 loaded\n"
     ]
    },
    {
     "name": "stderr",
     "output_type": "stream",
     "text": [
      "\r",
      " 63%|████████████████████████████████████████████████████▎                              | 41/65 [18:50<11:33, 28.88s/it]"
     ]
    },
    {
     "name": "stdout",
     "output_type": "stream",
     "text": [
      "Image /study/mrphys/skunkworks/training_data//mover01/M046/processed_data/C.h5 loaded\n"
     ]
    },
    {
     "name": "stderr",
     "output_type": "stream",
     "text": [
      "\r",
      " 65%|█████████████████████████████████████████████████████▋                             | 42/65 [19:20<11:11, 29.20s/it]"
     ]
    },
    {
     "name": "stdout",
     "output_type": "stream",
     "text": [
      "Image /study/mrphys/skunkworks/training_data//mover01/M047/processed_data/C.h5 loaded\n"
     ]
    },
    {
     "name": "stderr",
     "output_type": "stream",
     "text": [
      "\r",
      " 66%|██████████████████████████████████████████████████████▉                            | 43/65 [19:46<10:24, 28.40s/it]"
     ]
    },
    {
     "name": "stdout",
     "output_type": "stream",
     "text": [
      "Image /study/mrphys/skunkworks/training_data//mover01/M048/processed_data/C.h5 loaded\n"
     ]
    },
    {
     "name": "stderr",
     "output_type": "stream",
     "text": [
      "\r",
      " 68%|████████████████████████████████████████████████████████▏                          | 44/65 [20:14<09:48, 28.01s/it]"
     ]
    },
    {
     "name": "stdout",
     "output_type": "stream",
     "text": [
      "Image /study/mrphys/skunkworks/training_data//mover01/M049/processed_data/C.h5 loaded\n"
     ]
    },
    {
     "name": "stderr",
     "output_type": "stream",
     "text": [
      "\r",
      " 69%|█████████████████████████████████████████████████████████▍                         | 45/65 [20:40<09:11, 27.56s/it]"
     ]
    },
    {
     "name": "stdout",
     "output_type": "stream",
     "text": [
      "Image /study/mrphys/skunkworks/training_data//mover01/M050/processed_data/C.h5 loaded\n"
     ]
    },
    {
     "name": "stderr",
     "output_type": "stream",
     "text": [
      "\r",
      " 71%|██████████████████████████████████████████████████████████▋                        | 46/65 [21:07<08:41, 27.45s/it]"
     ]
    },
    {
     "name": "stdout",
     "output_type": "stream",
     "text": [
      "Image /study/mrphys/skunkworks/training_data//mover01/M051/processed_data/C.h5 loaded\n"
     ]
    },
    {
     "name": "stderr",
     "output_type": "stream",
     "text": [
      "\r",
      " 72%|████████████████████████████████████████████████████████████                       | 47/65 [21:34<08:12, 27.33s/it]"
     ]
    },
    {
     "name": "stdout",
     "output_type": "stream",
     "text": [
      "Image /study/mrphys/skunkworks/training_data//mover01/M052/processed_data/C.h5 loaded\n"
     ]
    },
    {
     "name": "stderr",
     "output_type": "stream",
     "text": [
      "\r",
      " 74%|█████████████████████████████████████████████████████████████▎                     | 48/65 [22:01<07:43, 27.28s/it]"
     ]
    },
    {
     "name": "stdout",
     "output_type": "stream",
     "text": [
      "Image /study/mrphys/skunkworks/training_data//mover01/M053/processed_data/C.h5 loaded\n"
     ]
    },
    {
     "name": "stderr",
     "output_type": "stream",
     "text": [
      "\r",
      " 75%|██████████████████████████████████████████████████████████████▌                    | 49/65 [22:29<07:18, 27.39s/it]"
     ]
    },
    {
     "name": "stdout",
     "output_type": "stream",
     "text": [
      "Image /study/mrphys/skunkworks/training_data//mover01/M054/processed_data/C.h5 loaded\n"
     ]
    },
    {
     "name": "stderr",
     "output_type": "stream",
     "text": [
      "\r",
      " 77%|███████████████████████████████████████████████████████████████▊                   | 50/65 [22:56<06:46, 27.13s/it]"
     ]
    },
    {
     "name": "stdout",
     "output_type": "stream",
     "text": [
      "Image /study/mrphys/skunkworks/training_data//mover01/M055/processed_data/C.h5 loaded\n"
     ]
    },
    {
     "name": "stderr",
     "output_type": "stream",
     "text": [
      "\r",
      " 78%|█████████████████████████████████████████████████████████████████                  | 51/65 [23:26<06:31, 27.99s/it]"
     ]
    },
    {
     "name": "stdout",
     "output_type": "stream",
     "text": [
      "Image /study/mrphys/skunkworks/training_data//mover01/M056/processed_data/C.h5 loaded\n"
     ]
    },
    {
     "name": "stderr",
     "output_type": "stream",
     "text": [
      "\r",
      " 80%|██████████████████████████████████████████████████████████████████▍                | 52/65 [23:54<06:04, 28.02s/it]"
     ]
    },
    {
     "name": "stdout",
     "output_type": "stream",
     "text": [
      "Image /study/mrphys/skunkworks/training_data//mover01/M057/processed_data/C.h5 loaded\n"
     ]
    },
    {
     "name": "stderr",
     "output_type": "stream",
     "text": [
      "\r",
      " 82%|███████████████████████████████████████████████████████████████████▋               | 53/65 [24:23<05:42, 28.51s/it]"
     ]
    },
    {
     "name": "stdout",
     "output_type": "stream",
     "text": [
      "Image /study/mrphys/skunkworks/training_data//mover01/M058/processed_data/C.h5 loaded\n"
     ]
    },
    {
     "name": "stderr",
     "output_type": "stream",
     "text": [
      "\r",
      " 83%|████████████████████████████████████████████████████████████████████▉              | 54/65 [24:53<05:16, 28.76s/it]"
     ]
    },
    {
     "name": "stdout",
     "output_type": "stream",
     "text": [
      "Image /study/mrphys/skunkworks/training_data//mover01/M059/processed_data/C.h5 loaded\n"
     ]
    },
    {
     "name": "stderr",
     "output_type": "stream",
     "text": [
      "\r",
      " 85%|██████████████████████████████████████████████████████████████████████▏            | 55/65 [25:23<04:51, 29.15s/it]"
     ]
    },
    {
     "name": "stdout",
     "output_type": "stream",
     "text": [
      "Image /study/mrphys/skunkworks/training_data//mover01/M060/processed_data/C.h5 loaded\n"
     ]
    },
    {
     "name": "stderr",
     "output_type": "stream",
     "text": [
      "\r",
      " 86%|███████████████████████████████████████████████████████████████████████▌           | 56/65 [25:52<04:22, 29.18s/it]"
     ]
    },
    {
     "name": "stdout",
     "output_type": "stream",
     "text": [
      "Image /study/mrphys/skunkworks/training_data//mover01/M061/processed_data/C.h5 loaded\n"
     ]
    },
    {
     "name": "stderr",
     "output_type": "stream",
     "text": [
      "\r",
      " 88%|████████████████████████████████████████████████████████████████████████▊          | 57/65 [26:22<03:56, 29.53s/it]"
     ]
    },
    {
     "name": "stdout",
     "output_type": "stream",
     "text": [
      "Image /study/mrphys/skunkworks/training_data//mover01/M062/processed_data/C.h5 loaded\n"
     ]
    },
    {
     "name": "stderr",
     "output_type": "stream",
     "text": [
      "\r",
      " 89%|██████████████████████████████████████████████████████████████████████████         | 58/65 [26:54<03:30, 30.12s/it]"
     ]
    },
    {
     "name": "stdout",
     "output_type": "stream",
     "text": [
      "Image /study/mrphys/skunkworks/training_data//mover01/M063/processed_data/C.h5 loaded\n"
     ]
    },
    {
     "name": "stderr",
     "output_type": "stream",
     "text": [
      "\r",
      " 91%|███████████████████████████████████████████████████████████████████████████▎       | 59/65 [27:25<03:03, 30.53s/it]"
     ]
    },
    {
     "name": "stdout",
     "output_type": "stream",
     "text": [
      "Image /study/mrphys/skunkworks/training_data//mover01/M064/processed_data/C.h5 loaded\n"
     ]
    },
    {
     "name": "stderr",
     "output_type": "stream",
     "text": [
      "\r",
      " 92%|████████████████████████████████████████████████████████████████████████████▌      | 60/65 [27:55<02:30, 30.13s/it]"
     ]
    },
    {
     "name": "stdout",
     "output_type": "stream",
     "text": [
      "Image /study/mrphys/skunkworks/training_data//mover01/M066/processed_data/C.h5 loaded\n"
     ]
    },
    {
     "name": "stderr",
     "output_type": "stream",
     "text": [
      "\r",
      " 94%|█████████████████████████████████████████████████████████████████████████████▉     | 61/65 [28:24<01:59, 29.85s/it]"
     ]
    },
    {
     "name": "stdout",
     "output_type": "stream",
     "text": [
      "Image /study/mrphys/skunkworks/training_data//mover01/M067/processed_data/C.h5 loaded\n"
     ]
    },
    {
     "name": "stderr",
     "output_type": "stream",
     "text": [
      "\r",
      " 95%|███████████████████████████████████████████████████████████████████████████████▏   | 62/65 [28:52<01:28, 29.39s/it]"
     ]
    },
    {
     "name": "stdout",
     "output_type": "stream",
     "text": [
      "Image /study/mrphys/skunkworks/training_data//mover01/M068/processed_data/C.h5 loaded\n"
     ]
    },
    {
     "name": "stderr",
     "output_type": "stream",
     "text": [
      "\r",
      " 97%|████████████████████████████████████████████████████████████████████████████████▍  | 63/65 [29:22<00:59, 29.52s/it]"
     ]
    },
    {
     "name": "stdout",
     "output_type": "stream",
     "text": [
      "Image /study/mrphys/skunkworks/training_data//mover01/M069/processed_data/C.h5 loaded\n"
     ]
    },
    {
     "name": "stderr",
     "output_type": "stream",
     "text": [
      "\r",
      " 98%|█████████████████████████████████████████████████████████████████████████████████▋ | 64/65 [29:51<00:29, 29.26s/it]"
     ]
    },
    {
     "name": "stdout",
     "output_type": "stream",
     "text": [
      "Image /study/mrphys/skunkworks/training_data//mover01/M070/processed_data/C.h5 loaded\n"
     ]
    },
    {
     "name": "stderr",
     "output_type": "stream",
     "text": [
      "100%|███████████████████████████████████████████████████████████████████████████████████| 65/65 [30:20<00:00, 28.01s/it]\n"
     ]
    }
   ],
   "source": [
    "l"
   ]
  },
  {
   "cell_type": "code",
   "execution_count": null,
   "id": "f69901bc",
   "metadata": {},
   "outputs": [],
   "source": [
    "class noisyDataset(Dataset):\n",
    "    def __init__(self, sample):\n",
    "        self.accelPathList = []\n",
    "        self.accelFileList = []\n",
    "\n",
    "        allImages = sorted(glob(\"/study/mrphys/skunkworks/training_data//mover01/*/\", recursive=True))\n",
    "        folderName  = allImages[sample]\n",
    "        self.accelPathList.append(folderName +'processed_data/acc_2min/C.h5')\n",
    "        \n",
    "        for accelPath in self.accelPathList:\n",
    "            slices, scale = getComplexSlices(accelPath, return_scale=True)\n",
    "            self.accelFileList+= list(slices)\n",
    "            self.scale = scale\n",
    "            print('Image ' + accelPath + ' loaded')\n",
    "\n",
    "    def __getitem__(self, index):\n",
    "        return self.accelFileList[index]\n",
    "\n",
    "    def __len__(self):\n",
    "        return len(self.accelFileList)\n",
    "    \n",
    "def predict(model, dataset, device = torch.device(\"cuda\" if torch.cuda.is_available() else \"cpu\")):\n",
    "    model.eval()\n",
    "    model.to(device)\n",
    "    X = []\n",
    "    Y = []\n",
    "    Z = []\n",
    "    for i, noisy in tqdm(enumerate(dataset)):\n",
    "        noisy = torch.tensor(noisy).to(device).unsqueeze(0)\n",
    "        with torch.no_grad():\n",
    "            p = model(noisy).cpu().numpy() * dataset.scale\n",
    "            if i%3==0:\n",
    "                X.append(p)\n",
    "            elif i%3==1:\n",
    "                Y.append(p)\n",
    "            else:\n",
    "                Z.append(p)\n",
    "                \n",
    "    return np.vstack(X).transpose(1,0,2,3), np.vstack(Y).transpose(1,2,0,3), np.vstack(Z).transpose(1,2,3,0)\n",
    "\n",
    "def get_prediction(idx, fold):\n",
    "    \n",
    "    model = unet.UNet(6,\n",
    "    6,\n",
    "    f_maps=32,\n",
    "    layer_order=['separable convolution', 'relu'],\n",
    "    depth=3,\n",
    "    layer_growth=2.0,\n",
    "    residual=True,\n",
    "    complex_input=True,\n",
    "    complex_kernel=True,\n",
    "    ndims=2,\n",
    "    padding=1)\n",
    "\n",
    "    name = f'slice_kfold_{fold}'\n",
    "\n",
    "    model.load_state_dict(torch.load(f'/study/mrphys/skunkworks/kk/outputs/{name}/weights/{name}_LATEST.pth'))\n",
    "\n",
    "    dataset = noisyDataset(idx)\n",
    "    X, Y, Z = predict(model, dataset)\n",
    "    \n",
    "    return (X+Y+Z)/3"
   ]
  },
  {
   "cell_type": "code",
   "execution_count": null,
   "id": "17d3a59d",
   "metadata": {},
   "outputs": [],
   "source": [
    "pred = get_prediction(4, 1)"
   ]
  },
  {
   "cell_type": "code",
   "execution_count": null,
   "id": "1ad117e2",
   "metadata": {},
   "outputs": [],
   "source": [
    "plt.gray()\n",
    "n = 130\n",
    "plt.title(\"Top-down\")\n",
    "plt.imshow(pred[0][n,:,:].imag)\n",
    "plt.show()\n",
    "plt.title(\"Left-right\")\n",
    "plt.imshow(pred[0][:,n,:].imag)\n",
    "plt.show()\n",
    "plt.title(\"Front-back\")\n",
    "plt.imshow(pred[0][:,:,n].imag)\n",
    "plt.show()"
   ]
  },
  {
   "cell_type": "code",
   "execution_count": null,
   "id": "0cd6f4f1",
   "metadata": {},
   "outputs": [],
   "source": [
    "kfsplitter = kf(n_splits=5, shuffle=True, random_state=69420)\n",
    "for i, (train_index, test_index) in enumerate(kfsplitter.split(np.arange(65))):\n",
    "    for idx in test_index:\n",
    "        print(f'Fold = {i+1}')\n",
    "        pred = get_prediction(idx, i+1)\n",
    "        np.save(f'pred/denoised_{idx}.npy', pred)"
   ]
  },
  {
   "cell_type": "code",
   "execution_count": null,
   "id": "98e288f3",
   "metadata": {},
   "outputs": [],
   "source": [
    "path = '/study/mrphys/skunkworks/training_data//mover01/M001/processed_data/acc_2min/C.h5'\n",
    "\n",
    "with h5py.File(path,'r') as hf:\n",
    "    prefix = 'C_000_0'\n",
    "    imagestackReal = []\n",
    "    imagestackImag = []\n",
    "    for i in range(6):\n",
    "        n = prefix + str(i).zfill(2)\n",
    "        image = hf['Images'][n]\n",
    "        imagestackReal.append(np.array(image['real']))\n",
    "        imagestackImag.append(np.array(image['imag']))\n",
    "        if i==0:\n",
    "            normScale = np.max([np.abs(np.array(image['real'])).max(), np.abs(np.array(image['real'])).max()])\n",
    "    imagestackReal = np.array(imagestackReal)/normScale\n",
    "    imagestackImag = np.array(imagestackImag)/normScale\n",
    "    x = imagestackReal+imagestackImag*1j\n",
    "    \n",
    "plt.imshow(x[0,130].real)"
   ]
  },
  {
   "cell_type": "markdown",
   "id": "6451fdb6",
   "metadata": {},
   "source": [
    "# Save to H5"
   ]
  },
  {
   "cell_type": "code",
   "execution_count": null,
   "id": "f9131410",
   "metadata": {},
   "outputs": [],
   "source": [
    "import h5py\n",
    "import numpy as np\n",
    "\n",
    "imgIndex = 0\n",
    "name = allImages[imgIndex].split('/')[-2]\n",
    "with h5py.File(f'/scratch/mrphys/denoised/comparison_{name}.h5','w') as f:\n",
    "    grp = f.create_group('Original')\n",
    "    with h5py.File(allImages[imgIndex]+'processed_data/C.h5','r') as hfOriginal:\n",
    "        for n in range(6):\n",
    "            n = 'C_000_0'+ str(n).zfill(2)\n",
    "            grp.create_dataset(n, data=np.array(hfOriginal['Images'][n]))\n",
    "        \n",
    "    grp = f.create_group('Noisy')\n",
    "    with h5py.File(allImages[imgIndex]+'processed_data/acc_2min/C.h5','r') as hfNoisy:\n",
    "        for n in range(6):\n",
    "            n = 'C_000_0'+ str(n).zfill(2)\n",
    "            grp.create_dataset(n, data=np.array(hfNoisy['Images'][n]))\n",
    "\n",
    "    pred = np.load(f'pred/denoised_{0}.npy')\n",
    "    temp = pred.astype(np.dtype([('real','f'),('imag','f')]))\n",
    "    temp['imag'] = pred.imag\n",
    "    pred = temp\n",
    "    grp = f.create_group('Denoised')\n",
    "    for n in range(6):\n",
    "        grp.create_dataset('C_000_0'+ str(n).zfill(2), data=pred[n])"
   ]
  },
  {
   "cell_type": "code",
   "execution_count": null,
   "id": "20500d18",
   "metadata": {},
   "outputs": [],
   "source": [
    "with h5py.File(f'/scratch/mrphys/denoised/comparison_{name}.h5','r') as f:\n",
    "    n = 0\n",
    "    n = 'C_000_0'+ str(n).zfill(2)\n",
    "    plt.imshow(f['Denoised'][n]['real'][130])\n",
    "    plt.show()\n",
    "    plt.imshow(f['Original'][n]['real'][130])\n",
    "    plt.show()\n",
    "    plt.imshow(f['Noisy'][n]['real'][130])\n",
    "    plt.show()"
   ]
  },
  {
   "cell_type": "markdown",
   "id": "5c87109d",
   "metadata": {},
   "source": [
    "# Save using the same format"
   ]
  },
  {
   "cell_type": "code",
   "execution_count": 7,
   "id": "4a143c77",
   "metadata": {},
   "outputs": [],
   "source": [
    "import h5py\n",
    "import numpy as np\n",
    "import os\n",
    "from glob import glob\n",
    "from tqdm import tqdm"
   ]
  },
  {
   "cell_type": "code",
   "execution_count": 8,
   "id": "4378486a",
   "metadata": {},
   "outputs": [
    {
     "name": "stderr",
     "output_type": "stream",
     "text": [
      "0it [00:00, ?it/s]/tmp/ipykernel_1749358/3271076045.py:11: ComplexWarning: Casting complex values to real discards the imaginary part\n",
      "  temp = pred.astype(np.dtype([('real','f'),('imag','f')]))\n",
      "65it [02:22,  2.19s/it]\n"
     ]
    }
   ],
   "source": [
    "allImages = sorted(glob(\"/study/mrphys/skunkworks/training_data//mover01/*/\", recursive=True))\n",
    "try:\n",
    "    os.mkdir('/scratch/mrphys/denoised')\n",
    "except:\n",
    "    pass\n",
    "\n",
    "for i, imgIndex in tqdm(enumerate(range(len(allImages)))):\n",
    "    name = allImages[imgIndex].split('/')[-2]\n",
    "    with h5py.File(f'/scratch/mrphys/denoised/denoised_{name}.h5','w') as f:\n",
    "        pred = np.load(f'pred/denoised_{i}.npy')\n",
    "        temp = pred.astype(np.dtype([('real','f'),('imag','f')]))\n",
    "        temp['imag'] = pred.imag\n",
    "        pred = temp\n",
    "        grp = f.create_group('Images')\n",
    "        for n in range(6):\n",
    "            grp.create_dataset('C_000_0'+ str(n).zfill(2), data=pred[n])"
   ]
  },
  {
   "cell_type": "code",
   "execution_count": null,
   "id": "c4135d6e",
   "metadata": {},
   "outputs": [],
   "source": [
    "with h5py.File(path,'r') as f:\n",
    "    print(f.keys())\n",
    "    print(f['Images']['C_000_001'])"
   ]
  },
  {
   "cell_type": "code",
   "execution_count": null,
   "id": "4dd2b2db",
   "metadata": {},
   "outputs": [],
   "source": [
    "with h5py.File(f'/scratch/mrphys/skunkworks/denoised/denoised_{name}.h5','r') as f:\n",
    "    print(f.keys())\n",
    "    print(f['Images']['C_000_001'])"
   ]
  },
  {
   "cell_type": "code",
   "execution_count": null,
   "id": "326d7771",
   "metadata": {},
   "outputs": [],
   "source": [
    "import torch.distributed as dist\n",
    "import torch\n",
    "import os\n",
    "\n",
    "def setup(rank, world_size):\n",
    "    os.environ['MASTER_ADDR'] = 'localhost'\n",
    "    os.environ['MASTER_PORT'] = '6969'\n",
    "    dist.init_process_group(\"gloo\", rank=rank, world_size=world_size)\n",
    "\n",
    "def cleanup():\n",
    "    dist.destroy_process_group()\n",
    "    \n",
    "n_gpus = torch.cuda.device_count()\n",
    "rank = 4\n",
    "print(rank)\n",
    "setup(rank, n_gpus)\n",
    "rank = dist.get_rank()\n",
    "print(rank)"
   ]
  },
  {
   "cell_type": "code",
   "execution_count": 5,
   "id": "aff03eea",
   "metadata": {},
   "outputs": [],
   "source": [
    "import pickle\n",
    "from torch.utils.data import Dataset\n",
    "class mriSliceDataset(Dataset):\n",
    "    def __init__(self, sample):\n",
    "        self.originalPathList = []\n",
    "        self.accelPathList = []\n",
    "        self.originalFileList = []\n",
    "        self.accelFileList = []\n",
    "\n",
    "        allImages = sorted(glob(\"/study/mrphys/skunkworks/training_data//mover01/*/\", recursive=True))\n",
    "        folderName  = allImages[sample]\n",
    "        self.originalPathList.append(folderName + 'processed_data/C.h5')\n",
    "        self.accelPathList.append(folderName +'processed_data/acc_2min/C.h5')\n",
    "        \n",
    "        for originalPath, accelPath in zip(self.originalPathList, self.accelPathList):\n",
    "            self.originalFileList+= list(getComplexSlices(originalPath))\n",
    "            self.accelFileList+= list(getComplexSlices(accelPath))\n",
    "            print('Image ' + originalPath + ' loaded')\n",
    "\n",
    "    def __getitem__(self, index):\n",
    "        return self.accelFileList[index], self.originalFileList[index]\n",
    "\n",
    "    def __len__(self):\n",
    "        return len(self.accelFileList)\n",
    "with open(f'/scratch/mrphys/pickled/dataset_{0}.pickle', 'rb') as f:\n",
    "    data = pickle.load(f)"
   ]
  },
  {
   "cell_type": "code",
   "execution_count": 6,
   "id": "59ac165f",
   "metadata": {},
   "outputs": [
    {
     "name": "stdout",
     "output_type": "stream",
     "text": [
      "(16, 256, 256)\n",
      "(16, 256, 256)\n",
      "(16, 256, 256)\n",
      "(16, 256, 256)\n",
      "(16, 256, 256)\n",
      "(16, 256, 256)\n",
      "(16, 256, 256)\n",
      "(16, 256, 256)\n",
      "(16, 256, 256)\n",
      "(16, 256, 256)\n",
      "(16, 256, 256)\n",
      "(16, 256, 256)\n",
      "(16, 256, 256)\n",
      "(16, 256, 256)\n",
      "(16, 256, 256)\n",
      "(16, 256, 256)\n",
      "(16, 256, 256)\n",
      "(16, 256, 256)\n",
      "(16, 256, 256)\n",
      "(16, 256, 256)\n",
      "(16, 256, 256)\n",
      "(16, 256, 256)\n",
      "(16, 256, 256)\n",
      "(16, 256, 256)\n",
      "(16, 256, 256)\n",
      "(16, 256, 256)\n",
      "(16, 256, 256)\n",
      "(16, 256, 256)\n",
      "(16, 256, 256)\n",
      "(16, 256, 256)\n",
      "(16, 256, 256)\n",
      "(16, 256, 256)\n",
      "(16, 256, 256)\n",
      "(16, 256, 256)\n",
      "(16, 256, 256)\n",
      "(16, 256, 256)\n",
      "(16, 256, 256)\n",
      "(16, 256, 256)\n",
      "(16, 256, 256)\n",
      "(16, 256, 256)\n",
      "(16, 256, 256)\n",
      "(16, 256, 256)\n",
      "(16, 256, 256)\n",
      "(16, 256, 256)\n",
      "(16, 256, 256)\n",
      "(16, 256, 256)\n",
      "(16, 256, 256)\n",
      "(16, 256, 256)\n",
      "(16, 256, 256)\n",
      "(16, 256, 256)\n",
      "(16, 256, 256)\n",
      "(16, 256, 256)\n",
      "(16, 256, 256)\n",
      "(16, 256, 256)\n",
      "(16, 256, 256)\n",
      "(16, 256, 256)\n",
      "(16, 256, 256)\n",
      "(16, 256, 256)\n",
      "(16, 256, 256)\n",
      "(16, 256, 256)\n",
      "(16, 256, 256)\n",
      "(16, 256, 256)\n",
      "(16, 256, 256)\n",
      "(16, 256, 256)\n",
      "(16, 256, 256)\n",
      "(16, 256, 256)\n",
      "(16, 256, 256)\n",
      "(16, 256, 256)\n",
      "(16, 256, 256)\n",
      "(16, 256, 256)\n",
      "(16, 256, 256)\n",
      "(16, 256, 256)\n",
      "(16, 256, 256)\n",
      "(16, 256, 256)\n",
      "(16, 256, 256)\n",
      "(16, 256, 256)\n",
      "(16, 256, 256)\n",
      "(16, 256, 256)\n",
      "(16, 256, 256)\n",
      "(16, 256, 256)\n",
      "(16, 256, 256)\n",
      "(16, 256, 256)\n",
      "(16, 256, 256)\n",
      "(16, 256, 256)\n",
      "(16, 256, 256)\n",
      "(16, 256, 256)\n",
      "(16, 256, 256)\n",
      "(16, 256, 256)\n",
      "(16, 256, 256)\n",
      "(16, 256, 256)\n",
      "(16, 256, 256)\n",
      "(16, 256, 256)\n",
      "(16, 256, 256)\n",
      "(16, 256, 256)\n",
      "(16, 256, 256)\n",
      "(16, 256, 256)\n",
      "(16, 256, 256)\n",
      "(16, 256, 256)\n",
      "(16, 256, 256)\n",
      "(16, 256, 256)\n",
      "(16, 256, 256)\n",
      "(16, 256, 256)\n",
      "(16, 256, 256)\n",
      "(16, 256, 256)\n",
      "(16, 256, 256)\n",
      "(16, 256, 256)\n",
      "(16, 256, 256)\n",
      "(16, 256, 256)\n",
      "(16, 256, 256)\n",
      "(16, 256, 256)\n",
      "(16, 256, 256)\n",
      "(16, 256, 256)\n",
      "(16, 256, 256)\n",
      "(16, 256, 256)\n",
      "(16, 256, 256)\n",
      "(16, 256, 256)\n",
      "(16, 256, 256)\n",
      "(16, 256, 256)\n",
      "(16, 256, 256)\n",
      "(16, 256, 256)\n",
      "(16, 256, 256)\n",
      "(16, 256, 256)\n",
      "(16, 256, 256)\n",
      "(16, 256, 256)\n",
      "(16, 256, 256)\n",
      "(16, 256, 256)\n",
      "(16, 256, 256)\n",
      "(16, 256, 256)\n",
      "(16, 256, 256)\n",
      "(16, 256, 256)\n",
      "(16, 256, 256)\n",
      "(16, 256, 256)\n",
      "(16, 256, 256)\n",
      "(16, 256, 256)\n",
      "(16, 256, 256)\n",
      "(16, 256, 256)\n",
      "(16, 256, 256)\n",
      "(16, 256, 256)\n",
      "(16, 256, 256)\n",
      "(16, 256, 256)\n",
      "(16, 256, 256)\n",
      "(16, 256, 256)\n",
      "(16, 256, 256)\n",
      "(16, 256, 256)\n",
      "(16, 256, 256)\n",
      "(16, 256, 256)\n",
      "(16, 256, 256)\n",
      "(16, 256, 256)\n",
      "(16, 256, 256)\n",
      "(16, 256, 256)\n",
      "(16, 256, 256)\n",
      "(16, 256, 256)\n",
      "(16, 256, 256)\n",
      "(16, 256, 256)\n",
      "(16, 256, 256)\n",
      "(16, 256, 256)\n",
      "(16, 256, 256)\n",
      "(16, 256, 256)\n",
      "(16, 256, 256)\n",
      "(16, 256, 256)\n",
      "(16, 256, 256)\n",
      "(16, 256, 256)\n",
      "(16, 256, 256)\n",
      "(16, 256, 256)\n",
      "(16, 256, 256)\n",
      "(16, 256, 256)\n",
      "(16, 256, 256)\n",
      "(16, 256, 256)\n",
      "(16, 256, 256)\n",
      "(16, 256, 256)\n",
      "(16, 256, 256)\n",
      "(16, 256, 256)\n",
      "(16, 256, 256)\n",
      "(16, 256, 256)\n",
      "(16, 256, 256)\n",
      "(16, 256, 256)\n",
      "(16, 256, 256)\n",
      "(16, 256, 256)\n",
      "(16, 256, 256)\n",
      "(16, 256, 256)\n",
      "(16, 256, 256)\n",
      "(16, 256, 256)\n",
      "(16, 256, 256)\n",
      "(16, 256, 256)\n",
      "(16, 256, 256)\n",
      "(16, 256, 256)\n",
      "(16, 256, 256)\n",
      "(16, 256, 256)\n",
      "(16, 256, 256)\n",
      "(16, 256, 256)\n",
      "(16, 256, 256)\n",
      "(16, 256, 256)\n",
      "(16, 256, 256)\n",
      "(16, 256, 256)\n",
      "(16, 256, 256)\n",
      "(16, 256, 256)\n",
      "(16, 256, 256)\n",
      "(16, 256, 256)\n",
      "(16, 256, 256)\n",
      "(16, 256, 256)\n",
      "(16, 256, 256)\n",
      "(16, 256, 256)\n",
      "(16, 256, 256)\n",
      "(16, 256, 256)\n",
      "(16, 256, 256)\n",
      "(16, 256, 256)\n",
      "(16, 256, 256)\n",
      "(16, 256, 256)\n",
      "(16, 256, 256)\n",
      "(16, 256, 256)\n",
      "(16, 256, 256)\n",
      "(16, 256, 256)\n",
      "(16, 256, 256)\n",
      "(16, 256, 256)\n",
      "(16, 256, 256)\n",
      "(16, 256, 256)\n",
      "(16, 256, 256)\n",
      "(16, 256, 256)\n",
      "(16, 256, 256)\n",
      "(16, 256, 256)\n",
      "(16, 256, 256)\n",
      "(16, 256, 256)\n",
      "(16, 256, 256)\n",
      "(16, 256, 256)\n",
      "(16, 256, 256)\n",
      "(16, 256, 256)\n",
      "(16, 256, 256)\n",
      "(16, 256, 256)\n",
      "(16, 256, 256)\n",
      "(16, 256, 256)\n",
      "(16, 256, 256)\n",
      "(16, 256, 256)\n",
      "(16, 256, 256)\n",
      "(16, 256, 256)\n",
      "(16, 256, 256)\n",
      "(16, 256, 256)\n",
      "(16, 256, 256)\n",
      "(16, 256, 256)\n",
      "(16, 256, 256)\n",
      "(16, 256, 256)\n",
      "(16, 256, 256)\n",
      "(16, 256, 256)\n",
      "(16, 256, 256)\n",
      "(16, 256, 256)\n",
      "(16, 256, 256)\n",
      "(16, 256, 256)\n",
      "(16, 256, 256)\n",
      "(16, 256, 256)\n",
      "(16, 256, 256)\n",
      "(16, 256, 256)\n",
      "(16, 256, 256)\n",
      "(16, 256, 256)\n",
      "(16, 256, 256)\n",
      "(16, 256, 256)\n",
      "(16, 256, 256)\n",
      "(16, 256, 256)\n",
      "(16, 256, 256)\n",
      "(16, 256, 256)\n",
      "(16, 256, 256)\n",
      "(16, 256, 256)\n",
      "(16, 256, 256)\n",
      "(16, 256, 256)\n",
      "(16, 256, 256)\n",
      "(16, 256, 256)\n",
      "(16, 256, 256)\n",
      "(16, 256, 256)\n",
      "(16, 256, 256)\n",
      "(16, 256, 256)\n",
      "(16, 256, 256)\n",
      "(16, 256, 256)\n",
      "(16, 256, 256)\n",
      "(16, 256, 256)\n",
      "(16, 256, 256)\n",
      "(16, 256, 256)\n",
      "(16, 256, 256)\n",
      "(16, 256, 256)\n",
      "(16, 256, 256)\n",
      "(16, 256, 256)\n",
      "(16, 256, 256)\n",
      "(16, 256, 256)\n",
      "(16, 256, 256)\n",
      "(16, 256, 256)\n",
      "(16, 256, 256)\n",
      "(16, 256, 256)\n",
      "(16, 256, 256)\n",
      "(16, 256, 256)\n",
      "(16, 256, 256)\n",
      "(16, 256, 256)\n",
      "(16, 256, 256)\n",
      "(16, 256, 256)\n",
      "(16, 256, 256)\n",
      "(16, 256, 256)\n",
      "(16, 256, 256)\n",
      "(16, 256, 256)\n",
      "(16, 256, 256)\n",
      "(16, 256, 256)\n",
      "(16, 256, 256)\n",
      "(16, 256, 256)\n",
      "(16, 256, 256)\n",
      "(16, 256, 256)\n",
      "(16, 256, 256)\n",
      "(16, 256, 256)\n",
      "(16, 256, 256)\n",
      "(16, 256, 256)\n",
      "(16, 256, 256)\n",
      "(16, 256, 256)\n",
      "(16, 256, 256)\n",
      "(16, 256, 256)\n",
      "(16, 256, 256)\n",
      "(16, 256, 256)\n",
      "(16, 256, 256)\n",
      "(16, 256, 256)\n",
      "(16, 256, 256)\n",
      "(16, 256, 256)\n",
      "(16, 256, 256)\n",
      "(16, 256, 256)\n",
      "(16, 256, 256)\n",
      "(16, 256, 256)\n",
      "(16, 256, 256)\n",
      "(16, 256, 256)\n",
      "(16, 256, 256)\n",
      "(16, 256, 256)\n",
      "(16, 256, 256)\n",
      "(16, 256, 256)\n",
      "(16, 256, 256)\n",
      "(16, 256, 256)\n",
      "(16, 256, 256)\n",
      "(16, 256, 256)\n",
      "(16, 256, 256)\n",
      "(16, 256, 256)\n",
      "(16, 256, 256)\n",
      "(16, 256, 256)\n",
      "(16, 256, 256)\n",
      "(16, 256, 256)\n",
      "(16, 256, 256)\n",
      "(16, 256, 256)\n",
      "(16, 256, 256)\n",
      "(16, 256, 256)\n",
      "(16, 256, 256)\n",
      "(16, 256, 256)\n",
      "(16, 256, 256)\n",
      "(16, 256, 256)\n",
      "(16, 256, 256)\n",
      "(16, 256, 256)\n",
      "(16, 256, 256)\n",
      "(16, 256, 256)\n",
      "(16, 256, 256)\n",
      "(16, 256, 256)\n",
      "(16, 256, 256)\n",
      "(16, 256, 256)\n",
      "(16, 256, 256)\n",
      "(16, 256, 256)\n",
      "(16, 256, 256)\n",
      "(16, 256, 256)\n",
      "(16, 256, 256)\n",
      "(16, 256, 256)\n",
      "(16, 256, 256)\n",
      "(16, 256, 256)\n",
      "(16, 256, 256)\n",
      "(16, 256, 256)\n",
      "(16, 256, 256)\n",
      "(16, 256, 256)\n",
      "(16, 256, 256)\n",
      "(16, 256, 256)\n",
      "(16, 256, 256)\n",
      "(16, 256, 256)\n",
      "(16, 256, 256)\n",
      "(16, 256, 256)\n",
      "(16, 256, 256)\n",
      "(16, 256, 256)\n",
      "(16, 256, 256)\n",
      "(16, 256, 256)\n",
      "(16, 256, 256)\n",
      "(16, 256, 256)\n",
      "(16, 256, 256)\n",
      "(16, 256, 256)\n",
      "(16, 256, 256)\n",
      "(16, 256, 256)\n",
      "(16, 256, 256)\n",
      "(16, 256, 256)\n",
      "(16, 256, 256)\n",
      "(16, 256, 256)\n",
      "(16, 256, 256)\n",
      "(16, 256, 256)\n",
      "(16, 256, 256)\n",
      "(16, 256, 256)\n",
      "(16, 256, 256)\n",
      "(16, 256, 256)\n",
      "(16, 256, 256)\n",
      "(16, 256, 256)\n",
      "(16, 256, 256)\n",
      "(16, 256, 256)\n",
      "(16, 256, 256)\n",
      "(16, 256, 256)\n",
      "(16, 256, 256)\n",
      "(16, 256, 256)\n",
      "(16, 256, 256)\n",
      "(16, 256, 256)\n",
      "(16, 256, 256)\n",
      "(16, 256, 256)\n",
      "(16, 256, 256)\n",
      "(16, 256, 256)\n",
      "(16, 256, 256)\n",
      "(16, 256, 256)\n",
      "(16, 256, 256)\n",
      "(16, 256, 256)\n",
      "(16, 256, 256)\n",
      "(16, 256, 256)\n",
      "(16, 256, 256)\n",
      "(16, 256, 256)\n",
      "(16, 256, 256)\n",
      "(16, 256, 256)\n",
      "(16, 256, 256)\n",
      "(16, 256, 256)\n",
      "(16, 256, 256)\n",
      "(16, 256, 256)\n",
      "(16, 256, 256)\n",
      "(16, 256, 256)\n",
      "(16, 256, 256)\n",
      "(16, 256, 256)\n",
      "(16, 256, 256)\n",
      "(16, 256, 256)\n",
      "(16, 256, 256)\n",
      "(16, 256, 256)\n",
      "(16, 256, 256)\n",
      "(16, 256, 256)\n",
      "(16, 256, 256)\n",
      "(16, 256, 256)\n",
      "(16, 256, 256)\n",
      "(16, 256, 256)\n",
      "(16, 256, 256)\n",
      "(16, 256, 256)\n",
      "(16, 256, 256)\n",
      "(16, 256, 256)\n",
      "(16, 256, 256)\n",
      "(16, 256, 256)\n",
      "(16, 256, 256)\n",
      "(16, 256, 256)\n",
      "(16, 256, 256)\n",
      "(16, 256, 256)\n",
      "(16, 256, 256)\n",
      "(16, 256, 256)\n",
      "(16, 256, 256)\n",
      "(16, 256, 256)\n",
      "(16, 256, 256)\n",
      "(16, 256, 256)\n",
      "(16, 256, 256)\n",
      "(16, 256, 256)\n",
      "(16, 256, 256)\n",
      "(16, 256, 256)\n",
      "(16, 256, 256)\n",
      "(16, 256, 256)\n",
      "(16, 256, 256)\n",
      "(16, 256, 256)\n",
      "(16, 256, 256)\n",
      "(16, 256, 256)\n",
      "(16, 256, 256)\n",
      "(16, 256, 256)\n",
      "(16, 256, 256)\n",
      "(16, 256, 256)\n",
      "(16, 256, 256)\n",
      "(16, 256, 256)\n",
      "(16, 256, 256)\n",
      "(16, 256, 256)\n",
      "(16, 256, 256)\n",
      "(16, 256, 256)\n",
      "(16, 256, 256)\n",
      "(16, 256, 256)\n",
      "(16, 256, 256)\n",
      "(16, 256, 256)\n",
      "(16, 256, 256)\n",
      "(16, 256, 256)\n",
      "(16, 256, 256)\n",
      "(16, 256, 256)\n",
      "(16, 256, 256)\n",
      "(16, 256, 256)\n",
      "(16, 256, 256)\n",
      "(16, 256, 256)\n",
      "(16, 256, 256)\n",
      "(16, 256, 256)\n",
      "(16, 256, 256)\n",
      "(16, 256, 256)\n",
      "(16, 256, 256)\n",
      "(16, 256, 256)\n",
      "(16, 256, 256)\n",
      "(16, 256, 256)\n",
      "(16, 256, 256)\n",
      "(16, 256, 256)\n",
      "(16, 256, 256)\n",
      "(16, 256, 256)\n",
      "(16, 256, 256)\n",
      "(16, 256, 256)\n",
      "(16, 256, 256)\n",
      "(16, 256, 256)\n",
      "(16, 256, 256)\n",
      "(16, 256, 256)\n",
      "(16, 256, 256)\n",
      "(16, 256, 256)\n",
      "(16, 256, 256)\n",
      "(16, 256, 256)\n",
      "(16, 256, 256)\n",
      "(16, 256, 256)\n",
      "(16, 256, 256)\n",
      "(16, 256, 256)\n",
      "(16, 256, 256)\n",
      "(16, 256, 256)\n",
      "(16, 256, 256)\n",
      "(16, 256, 256)\n",
      "(16, 256, 256)\n",
      "(16, 256, 256)\n",
      "(16, 256, 256)\n",
      "(16, 256, 256)\n",
      "(16, 256, 256)\n",
      "(16, 256, 256)\n",
      "(16, 256, 256)\n",
      "(16, 256, 256)\n",
      "(16, 256, 256)\n",
      "(16, 256, 256)\n",
      "(16, 256, 256)\n",
      "(16, 256, 256)\n",
      "(16, 256, 256)\n",
      "(16, 256, 256)\n",
      "(16, 256, 256)\n",
      "(16, 256, 256)\n",
      "(16, 256, 256)\n",
      "(16, 256, 256)\n",
      "(16, 256, 256)\n",
      "(16, 256, 256)\n",
      "(16, 256, 256)\n",
      "(16, 256, 256)\n",
      "(16, 256, 256)\n",
      "(16, 256, 256)\n",
      "(16, 256, 256)\n",
      "(16, 256, 256)\n",
      "(16, 256, 256)\n",
      "(16, 256, 256)\n",
      "(16, 256, 256)\n",
      "(16, 256, 256)\n",
      "(16, 256, 256)\n",
      "(16, 256, 256)\n",
      "(16, 256, 256)\n",
      "(16, 256, 256)\n",
      "(16, 256, 256)\n",
      "(16, 256, 256)\n",
      "(16, 256, 256)\n",
      "(16, 256, 256)\n",
      "(16, 256, 256)\n",
      "(16, 256, 256)\n",
      "(16, 256, 256)\n",
      "(16, 256, 256)\n",
      "(16, 256, 256)\n",
      "(16, 256, 256)\n",
      "(16, 256, 256)\n",
      "(16, 256, 256)\n",
      "(16, 256, 256)\n",
      "(16, 256, 256)\n",
      "(16, 256, 256)\n",
      "(16, 256, 256)\n",
      "(16, 256, 256)\n",
      "(16, 256, 256)\n",
      "(16, 256, 256)\n",
      "(16, 256, 256)\n",
      "(16, 256, 256)\n",
      "(16, 256, 256)\n",
      "(16, 256, 256)\n",
      "(16, 256, 256)\n",
      "(16, 256, 256)\n",
      "(16, 256, 256)\n",
      "(16, 256, 256)\n",
      "(16, 256, 256)\n",
      "(16, 256, 256)\n",
      "(16, 256, 256)\n",
      "(16, 256, 256)\n",
      "(16, 256, 256)\n",
      "(16, 256, 256)\n",
      "(16, 256, 256)\n",
      "(16, 256, 256)\n",
      "(16, 256, 256)\n",
      "(16, 256, 256)\n",
      "(16, 256, 256)\n",
      "(16, 256, 256)\n",
      "(16, 256, 256)\n",
      "(16, 256, 256)\n",
      "(16, 256, 256)\n",
      "(16, 256, 256)\n",
      "(16, 256, 256)\n",
      "(16, 256, 256)\n",
      "(16, 256, 256)\n",
      "(16, 256, 256)\n",
      "(16, 256, 256)\n",
      "(16, 256, 256)\n",
      "(16, 256, 256)\n",
      "(16, 256, 256)\n",
      "(16, 256, 256)\n",
      "(16, 256, 256)\n",
      "(16, 256, 256)\n",
      "(16, 256, 256)\n",
      "(16, 256, 256)\n",
      "(16, 256, 256)\n",
      "(16, 256, 256)\n",
      "(16, 256, 256)\n",
      "(16, 256, 256)\n",
      "(16, 256, 256)\n",
      "(16, 256, 256)\n",
      "(16, 256, 256)\n",
      "(16, 256, 256)\n",
      "(16, 256, 256)\n",
      "(16, 256, 256)\n",
      "(16, 256, 256)\n",
      "(16, 256, 256)\n",
      "(16, 256, 256)\n",
      "(16, 256, 256)\n",
      "(16, 256, 256)\n",
      "(16, 256, 256)\n",
      "(16, 256, 256)\n",
      "(16, 256, 256)\n",
      "(16, 256, 256)\n",
      "(16, 256, 256)\n",
      "(16, 256, 256)\n",
      "(16, 256, 256)\n",
      "(16, 256, 256)\n",
      "(16, 256, 256)\n",
      "(16, 256, 256)\n",
      "(16, 256, 256)\n",
      "(16, 256, 256)\n",
      "(16, 256, 256)\n",
      "(16, 256, 256)\n",
      "(16, 256, 256)\n",
      "(16, 256, 256)\n",
      "(16, 256, 256)\n",
      "(16, 256, 256)\n",
      "(16, 256, 256)\n",
      "(16, 256, 256)\n",
      "(16, 256, 256)\n",
      "(16, 256, 256)\n",
      "(16, 256, 256)\n",
      "(16, 256, 256)\n",
      "(16, 256, 256)\n",
      "(16, 256, 256)\n",
      "(16, 256, 256)\n",
      "(16, 256, 256)\n",
      "(16, 256, 256)\n",
      "(16, 256, 256)\n",
      "(16, 256, 256)\n",
      "(16, 256, 256)\n",
      "(16, 256, 256)\n",
      "(16, 256, 256)\n",
      "(16, 256, 256)\n",
      "(16, 256, 256)\n",
      "(16, 256, 256)\n",
      "(16, 256, 256)\n",
      "(16, 256, 256)\n",
      "(16, 256, 256)\n",
      "(16, 256, 256)\n",
      "(16, 256, 256)\n",
      "(16, 256, 256)\n",
      "(16, 256, 256)\n",
      "(16, 256, 256)\n",
      "(16, 256, 256)\n",
      "(16, 256, 256)\n",
      "(16, 256, 256)\n",
      "(16, 256, 256)\n",
      "(16, 256, 256)\n",
      "(16, 256, 256)\n",
      "(16, 256, 256)\n",
      "(16, 256, 256)\n",
      "(16, 256, 256)\n",
      "(16, 256, 256)\n",
      "(16, 256, 256)\n",
      "(16, 256, 256)\n",
      "(16, 256, 256)\n",
      "(16, 256, 256)\n",
      "(16, 256, 256)\n",
      "(16, 256, 256)\n",
      "(16, 256, 256)\n",
      "(16, 256, 256)\n",
      "(16, 256, 256)\n",
      "(16, 256, 256)\n",
      "(16, 256, 256)\n",
      "(16, 256, 256)\n",
      "(16, 256, 256)\n",
      "(16, 256, 256)\n",
      "(16, 256, 256)\n",
      "(16, 256, 256)\n",
      "(16, 256, 256)\n",
      "(16, 256, 256)\n",
      "(16, 256, 256)\n",
      "(16, 256, 256)\n",
      "(16, 256, 256)\n",
      "(16, 256, 256)\n",
      "(16, 256, 256)\n",
      "(16, 256, 256)\n",
      "(16, 256, 256)\n",
      "(16, 256, 256)\n",
      "(16, 256, 256)\n",
      "(16, 256, 256)\n",
      "(16, 256, 256)\n",
      "(16, 256, 256)\n",
      "(16, 256, 256)\n",
      "(16, 256, 256)\n",
      "(16, 256, 256)\n",
      "(16, 256, 256)\n",
      "(16, 256, 256)\n",
      "(16, 256, 256)\n",
      "(16, 256, 256)\n",
      "(16, 256, 256)\n",
      "(16, 256, 256)\n",
      "(16, 256, 256)\n",
      "(16, 256, 256)\n",
      "(16, 256, 256)\n",
      "(16, 256, 256)\n",
      "(16, 256, 256)\n",
      "(16, 256, 256)\n",
      "(16, 256, 256)\n",
      "(16, 256, 256)\n",
      "(16, 256, 256)\n",
      "(16, 256, 256)\n",
      "(16, 256, 256)\n",
      "(16, 256, 256)\n",
      "(16, 256, 256)\n",
      "(16, 256, 256)\n",
      "(16, 256, 256)\n",
      "(16, 256, 256)\n",
      "(16, 256, 256)\n",
      "(16, 256, 256)\n",
      "(16, 256, 256)\n",
      "(16, 256, 256)\n",
      "(16, 256, 256)\n",
      "(16, 256, 256)\n",
      "(16, 256, 256)\n",
      "(16, 256, 256)\n",
      "(16, 256, 256)\n",
      "(16, 256, 256)\n",
      "(16, 256, 256)\n",
      "(16, 256, 256)\n",
      "(16, 256, 256)\n",
      "(16, 256, 256)\n",
      "(16, 256, 256)\n",
      "(16, 256, 256)\n",
      "(16, 256, 256)\n",
      "(16, 256, 256)\n",
      "(16, 256, 256)\n",
      "(16, 256, 256)\n",
      "(16, 256, 256)\n",
      "(16, 256, 256)\n",
      "(16, 256, 256)\n",
      "(16, 256, 256)\n",
      "(16, 256, 256)\n",
      "(16, 256, 256)\n",
      "(16, 256, 256)\n",
      "(16, 256, 256)\n",
      "(16, 256, 256)\n",
      "(16, 256, 256)\n",
      "(16, 256, 256)\n",
      "(16, 256, 256)\n",
      "(16, 256, 256)\n",
      "(16, 256, 256)\n",
      "(16, 256, 256)\n",
      "(16, 256, 256)\n",
      "(16, 256, 256)\n",
      "(16, 256, 256)\n",
      "(16, 256, 256)\n",
      "(16, 256, 256)\n",
      "(16, 256, 256)\n",
      "(16, 256, 256)\n",
      "(16, 256, 256)\n",
      "(16, 256, 256)\n",
      "(16, 256, 256)\n"
     ]
    }
   ],
   "source": [
    "for X, Y in data:\n",
    "    print(X.shape)"
   ]
  },
  {
   "cell_type": "code",
   "execution_count": 3,
   "id": "457f17c2",
   "metadata": {},
   "outputs": [],
   "source": [
    "import sys\n",
    "sys.path.insert(0,\"/study3/mrphys/skunkworks/kk/mriUnet\")\n",
    "import unet\n",
    "import torch\n",
    "from torch import nn\n",
    "model = unet.PatchGAN(\n",
    "    14,\n",
    "    f_maps=32,\n",
    "    layer_order=['separable convolution', 'relu', 'batch norm'],\n",
    "    depth=4,\n",
    "    layer_growth=2.0,\n",
    "    residual=True,\n",
    "    complex_input=False,\n",
    "    complex_kernel=False,\n",
    "    ndims=2,\n",
    "    padding=1\n",
    ")"
   ]
  },
  {
   "cell_type": "code",
   "execution_count": 4,
   "id": "8194e527",
   "metadata": {},
   "outputs": [],
   "source": [
    "device = \"cpu\" #torch.device(\"cuda\" if torch.cuda.is_available() else \"cpu\")\n",
    "model.to(device)\n",
    "inp = torch.randn(1,7,256,256)\n",
    "inp = inp.to(device)\n",
    "pred = model(inp, inp)"
   ]
  },
  {
   "cell_type": "code",
   "execution_count": 4,
   "id": "1e824250",
   "metadata": {},
   "outputs": [
    {
     "data": {
      "text/plain": [
       "tensor([[[[-2.7383e-01, -3.1528e-01, -1.0539e+00,  ..., -2.9841e-01,\n",
       "           -4.1028e-02, -8.5437e-02],\n",
       "          [ 1.3807e-01,  3.1959e-01, -1.9353e-02,  ...,  6.0839e-02,\n",
       "           -5.8703e-01,  1.2111e-04],\n",
       "          [-8.2378e-01,  5.7863e-02,  1.4145e+00,  ..., -2.4023e-02,\n",
       "           -1.4754e-01, -6.0467e-01],\n",
       "          ...,\n",
       "          [-1.1502e-01, -2.8118e-01,  6.2925e-02,  ...,  2.1677e-01,\n",
       "            6.0013e-01, -7.3894e-01],\n",
       "          [ 2.2050e-02,  7.1407e-01,  5.9331e-02,  ...,  1.6346e-01,\n",
       "           -6.3900e-01, -1.0993e+00],\n",
       "          [-2.7264e-01,  2.7381e-02, -8.0088e-01,  ...,  3.9469e-01,\n",
       "           -4.2766e-01, -4.0391e-01]]]], grad_fn=<ConvolutionBackward0>)"
      ]
     },
     "execution_count": 4,
     "metadata": {},
     "output_type": "execute_result"
    }
   ],
   "source": [
    "pred"
   ]
  },
  {
   "cell_type": "code",
   "execution_count": 6,
   "id": "ca7e3362",
   "metadata": {},
   "outputs": [],
   "source": [
    "from pytorch_msssim import ssim, ms_ssim, SSIM, MS_SSIM\n",
    "y = inp\n",
    "ssim_loss = (1-ms_ssim(pred[:,:,:,:,0], y.real, data_range=1, size_average=False)).mean() + (1-ms_ssim(pred[:,:,:,:,1], y.imag, data_range=1, size_average=False)).mean()"
   ]
  },
  {
   "cell_type": "code",
   "execution_count": 7,
   "id": "31f35e73",
   "metadata": {},
   "outputs": [
    {
     "name": "stdout",
     "output_type": "stream",
     "text": [
      "Tue Mar 21 13:12:57 2023       \n",
      "+---------------------------------------------------------------------------------------+\n",
      "| NVIDIA-SMI 530.30.02              Driver Version: 530.30.02    CUDA Version: 12.1     |\n",
      "|-----------------------------------------+----------------------+----------------------+\n",
      "| GPU  Name                  Persistence-M| Bus-Id        Disp.A | Volatile Uncorr. ECC |\n",
      "| Fan  Temp  Perf            Pwr:Usage/Cap|         Memory-Usage | GPU-Util  Compute M. |\n",
      "|                                         |                      |               MIG M. |\n",
      "|=========================================+======================+======================|\n",
      "|   0  Quadro RTX 8000                 Off| 00000000:01:00.0 Off |                  Off |\n",
      "| 43%   69C    P2              256W / 260W|  42793MiB / 49152MiB |     98%      Default |\n",
      "|                                         |                      |                  N/A |\n",
      "+-----------------------------------------+----------------------+----------------------+\n",
      "|   1  Quadro RTX 8000                 Off| 00000000:24:00.0 Off |                  Off |\n",
      "| 33%   35C    P8               28W / 260W|      3MiB / 49152MiB |      0%      Default |\n",
      "|                                         |                      |                  N/A |\n",
      "+-----------------------------------------+----------------------+----------------------+\n",
      "|   2  Quadro RTX 8000                 Off| 00000000:41:00.0 Off |                  Off |\n",
      "| 33%   33C    P8               33W / 260W|      3MiB / 49152MiB |      0%      Default |\n",
      "|                                         |                      |                  N/A |\n",
      "+-----------------------------------------+----------------------+----------------------+\n",
      "|   3  Quadro RTX 8000                 Off| 00000000:61:00.0 Off |                  Off |\n",
      "| 33%   31C    P8               33W / 260W|      3MiB / 49152MiB |      0%      Default |\n",
      "|                                         |                      |                  N/A |\n",
      "+-----------------------------------------+----------------------+----------------------+\n",
      "|   4  Quadro RTX 8000                 Off| 00000000:81:00.0 Off |                  Off |\n",
      "| 33%   33C    P8               22W / 260W|      3MiB / 49152MiB |      0%      Default |\n",
      "|                                         |                      |                  N/A |\n",
      "+-----------------------------------------+----------------------+----------------------+\n",
      "|   5  Quadro RTX 8000                 Off| 00000000:A1:00.0 Off |                  Off |\n",
      "| 33%   31C    P8               27W / 260W|      3MiB / 49152MiB |      0%      Default |\n",
      "|                                         |                      |                  N/A |\n",
      "+-----------------------------------------+----------------------+----------------------+\n",
      "|   6  Quadro RTX 8000                 Off| 00000000:C1:00.0 Off |                  Off |\n",
      "| 33%   33C    P8               23W / 260W|      3MiB / 49152MiB |      0%      Default |\n",
      "|                                         |                      |                  N/A |\n",
      "+-----------------------------------------+----------------------+----------------------+\n",
      "|   7  Quadro RTX 8000                 Off| 00000000:E1:00.0 Off |                  Off |\n",
      "| 33%   31C    P8               21W / 260W|      3MiB / 49152MiB |      0%      Default |\n",
      "|                                         |                      |                  N/A |\n",
      "+-----------------------------------------+----------------------+----------------------+\n",
      "                                                                                         \n",
      "+---------------------------------------------------------------------------------------+\n",
      "| Processes:                                                                            |\n",
      "|  GPU   GI   CI        PID   Type   Process name                            GPU Memory |\n",
      "|        ID   ID                                                             Usage      |\n",
      "|=======================================================================================|\n",
      "|    0   N/A  N/A   1907545      C   python                                    42790MiB |\n",
      "+---------------------------------------------------------------------------------------+\n"
     ]
    }
   ],
   "source": [
    "!nvidia-smi"
   ]
  }
 ],
 "metadata": {
  "kernelspec": {
   "display_name": "Python 3 (ipykernel)",
   "language": "python",
   "name": "python3"
  },
  "language_info": {
   "codemirror_mode": {
    "name": "ipython",
    "version": 3
   },
   "file_extension": ".py",
   "mimetype": "text/x-python",
   "name": "python",
   "nbconvert_exporter": "python",
   "pygments_lexer": "ipython3",
   "version": "3.9.13"
  },
  "vscode": {
   "interpreter": {
    "hash": "916dbcbb3f70747c44a77c7bcd40155683ae19c65e1c03b4aa3499c5328201f1"
   }
  }
 },
 "nbformat": 4,
 "nbformat_minor": 5
}
