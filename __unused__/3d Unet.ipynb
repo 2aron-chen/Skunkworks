{
 "cells": [
  {
   "cell_type": "code",
   "execution_count": 1,
   "id": "e49e0df0",
   "metadata": {},
   "outputs": [],
   "source": [
    "from torch.utils.data import DataLoader\n",
    "import torch\n",
    "import torch.nn as nn\n",
    "import torch.nn.functional as F\n",
    "import pickle\n",
    "from statistics import median, mean\n",
    "from matplotlib import pyplot as plt\n",
    "import numpy as np\n",
    "import json\n",
    "from tqdm import tqdm\n",
    "from glob import glob\n",
    "import os\n",
    "import sys\n",
    "sys.path.insert(0,\"/study/mrphys/skunkworks/kk/mriUnet\")\n",
    "from fullmodel3d import fullModel\n",
    "from unet import UNet\n",
    "from torchvision import transforms\n",
    "from torch.utils.data import Dataset\n",
    "from sklearn.model_selection import KFold as kf\n",
    "from pytorch_msssim import ssim, ms_ssim, SSIM, MS_SSIM\n",
    "from mriDataset import mriSliceDataset\n",
    "from smoothing import GaussianSmoothing"
   ]
  },
  {
   "cell_type": "code",
   "execution_count": 2,
   "id": "130fcf25",
   "metadata": {},
   "outputs": [],
   "source": [
    "b = 1\n",
    "nchans = 10\n",
    "f = 16\n",
    "s = 128\n",
    "device = 7\n",
    "\n",
    "model = fullModel().to(device)\n",
    "x = (torch.randn(b,10,s,s,s) + torch.randn(b,10,s,s,s)*1J).to(device)\n",
    "gt = (torch.randn(b,10,s,s,s) + torch.randn(b,10,s,s,s)*1J).to(device)\n",
    "y = (torch.randn(b,1,s,s,s)).to(device)\n",
    "mask = (torch.randn(b,1,s,s,s)).to(device)\n",
    "\n",
    "predictions = model(x, gt, y, mask)"
   ]
  },
  {
   "cell_type": "code",
   "execution_count": 2,
   "id": "2fa3a5c4",
   "metadata": {},
   "outputs": [],
   "source": [
    "b = 1\n",
    "nchans = 1\n",
    "f = 16\n",
    "s = 256\n",
    "device = 5\n",
    "\n",
    "model = UNet(\n",
    "    nchans,\n",
    "    nchans,\n",
    "    f_maps=f,\n",
    "    layer_order=['separable convolution', 'relu'],\n",
    "    depth=4,\n",
    "    layer_growth=2.0,\n",
    "    residual=True,\n",
    "    complex_input=False,\n",
    "    complex_kernel=False,\n",
    "    ndims=3,\n",
    "    padding=1\n",
    ")\n",
    "\n",
    "data = torch.randn(b,nchans,s,s,s) \n",
    "\n",
    "model = model.to(device)\n",
    "data = data.to(device)\n",
    "\n",
    "predictions = model(data)"
   ]
  },
  {
   "cell_type": "code",
   "execution_count": 6,
   "id": "47401682",
   "metadata": {},
   "outputs": [],
   "source": [
    "mask = torch.randn(b,nchans,s,s,s).to(device)\n",
    "loss_fn = nn.MSELoss()\n",
    "loss = loss_fn(predictions*mask, data*mask)"
   ]
  },
  {
   "cell_type": "code",
   "execution_count": 8,
   "id": "4d729ebc",
   "metadata": {},
   "outputs": [],
   "source": [
    "loss.backward()"
   ]
  },
  {
   "cell_type": "code",
   "execution_count": 9,
   "id": "b1a11ddc",
   "metadata": {},
   "outputs": [
    {
     "name": "stdout",
     "output_type": "stream",
     "text": [
      "Mon Jun 19 14:29:06 2023       \n",
      "+---------------------------------------------------------------------------------------+\n",
      "| NVIDIA-SMI 530.30.02              Driver Version: 530.30.02    CUDA Version: 12.1     |\n",
      "|-----------------------------------------+----------------------+----------------------+\n",
      "| GPU  Name                  Persistence-M| Bus-Id        Disp.A | Volatile Uncorr. ECC |\n",
      "| Fan  Temp  Perf            Pwr:Usage/Cap|         Memory-Usage | GPU-Util  Compute M. |\n",
      "|                                         |                      |               MIG M. |\n",
      "|=========================================+======================+======================|\n",
      "|   0  Quadro RTX 8000                 Off| 00000000:01:00.0 Off |                  Off |\n",
      "| 33%   35C    P8               21W / 260W|   1411MiB / 49152MiB |      0%      Default |\n",
      "|                                         |                      |                  N/A |\n",
      "+-----------------------------------------+----------------------+----------------------+\n",
      "|   1  Quadro RTX 8000                 Off| 00000000:24:00.0 Off |                  Off |\n",
      "| 33%   35C    P8               27W / 260W|      3MiB / 49152MiB |      0%      Default |\n",
      "|                                         |                      |                  N/A |\n",
      "+-----------------------------------------+----------------------+----------------------+\n",
      "|   2  Quadro RTX 8000                 Off| 00000000:41:00.0 Off |                  Off |\n",
      "| 33%   33C    P8               33W / 260W|      3MiB / 49152MiB |      0%      Default |\n",
      "|                                         |                      |                  N/A |\n",
      "+-----------------------------------------+----------------------+----------------------+\n",
      "|   3  Quadro RTX 8000                 Off| 00000000:61:00.0 Off |                  Off |\n",
      "| 33%   33C    P8               33W / 260W|      3MiB / 49152MiB |      0%      Default |\n",
      "|                                         |                      |                  N/A |\n",
      "+-----------------------------------------+----------------------+----------------------+\n",
      "|   4  Quadro RTX 8000                 Off| 00000000:81:00.0 Off |                  Off |\n",
      "| 33%   33C    P8               22W / 260W|      3MiB / 49152MiB |      0%      Default |\n",
      "|                                         |                      |                  N/A |\n",
      "+-----------------------------------------+----------------------+----------------------+\n",
      "|   5  Quadro RTX 8000                 Off| 00000000:A1:00.0 Off |                  Off |\n",
      "| 33%   38C    P2              111W / 260W|  23527MiB / 49152MiB |    100%      Default |\n",
      "|                                         |                      |                  N/A |\n",
      "+-----------------------------------------+----------------------+----------------------+\n",
      "|   6  Quadro RTX 8000                 Off| 00000000:C1:00.0 Off |                  Off |\n",
      "| 33%   32C    P8               24W / 260W|      3MiB / 49152MiB |      0%      Default |\n",
      "|                                         |                      |                  N/A |\n",
      "+-----------------------------------------+----------------------+----------------------+\n",
      "|   7  Quadro RTX 8000                 Off| 00000000:E1:00.0 Off |                  Off |\n",
      "| 33%   30C    P8               21W / 260W|      3MiB / 49152MiB |      0%      Default |\n",
      "|                                         |                      |                  N/A |\n",
      "+-----------------------------------------+----------------------+----------------------+\n",
      "                                                                                         \n",
      "+---------------------------------------------------------------------------------------+\n",
      "| Processes:                                                                            |\n",
      "|  GPU   GI   CI        PID   Type   Process name                            GPU Memory |\n",
      "|        ID   ID                                                             Usage      |\n",
      "|=======================================================================================|\n",
      "|    0   N/A  N/A   2128904      C   ...t/.conda/envs/mriDenoise/bin/python     1408MiB |\n",
      "|    5   N/A  N/A   4081533      C   ...t/.conda/envs/mriDenoise/bin/python    23524MiB |\n",
      "+---------------------------------------------------------------------------------------+\n"
     ]
    }
   ],
   "source": [
    "!nvidia-smi"
   ]
  },
  {
   "cell_type": "code",
   "execution_count": null,
   "id": "1371b229",
   "metadata": {},
   "outputs": [],
   "source": []
  }
 ],
 "metadata": {
  "kernelspec": {
   "display_name": "Python 3 (ipykernel)",
   "language": "python",
   "name": "python3"
  },
  "language_info": {
   "codemirror_mode": {
    "name": "ipython",
    "version": 3
   },
   "file_extension": ".py",
   "mimetype": "text/x-python",
   "name": "python",
   "nbconvert_exporter": "python",
   "pygments_lexer": "ipython3",
   "version": "3.9.13"
  }
 },
 "nbformat": 4,
 "nbformat_minor": 5
}
