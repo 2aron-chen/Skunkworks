{
 "cells": [
  {
   "cell_type": "code",
   "execution_count": 9,
   "id": "83936a08",
   "metadata": {},
   "outputs": [],
   "source": [
    "from torch.utils.data import DataLoader\n",
    "import torch\n",
    "import torch.nn as nn\n",
    "import torch.nn.functional as F\n",
    "import pickle\n",
    "from statistics import median, mean\n",
    "from matplotlib import pyplot as plt\n",
    "import numpy as np\n",
    "import json\n",
    "from tqdm import tqdm\n",
    "from glob import glob\n",
    "import os\n",
    "import sys\n",
    "sys.path.insert(0,\"/study/mrphys/skunkworks/kk/mriUnet\")\n",
    "import unet\n",
    "from torchvision import transforms\n",
    "from torch.utils.data import Dataset\n",
    "from sklearn.model_selection import KFold as kf\n",
    "from pytorch_msssim import ssim, ms_ssim, SSIM, MS_SSIM\n",
    "import h5py"
   ]
  },
  {
   "cell_type": "code",
   "execution_count": 10,
   "id": "29b54e79",
   "metadata": {},
   "outputs": [],
   "source": [
    "allImages = sorted(glob(\"/study/mrphys/skunkworks/training_data//mover01/*/\", recursive=True))[0:40]"
   ]
  },
  {
   "cell_type": "code",
   "execution_count": 11,
   "id": "bfeea89c",
   "metadata": {},
   "outputs": [],
   "source": [
    "def getComplexSlices(path):\n",
    "\n",
    "    with h5py.File(path,'r') as hf:\n",
    "        prefix = 'C_000_0'\n",
    "        imagestackReal = []\n",
    "        imagestackImag = []\n",
    "        for i in range(10):\n",
    "            n = prefix + str(i).zfill(2)\n",
    "            image = hf['Images'][n]\n",
    "            imagestackReal.append(np.array(image['real']))\n",
    "            imagestackImag.append(np.array(image['imag']))\n",
    "            if i==0:\n",
    "                normScale = np.abs(np.array(image['real']+image['real']*1j)).max()\n",
    "        imagestackReal = np.array(imagestackReal)/normScale\n",
    "        imagestackImag = np.array(imagestackImag)/normScale\n",
    "        \n",
    "    return imagestackReal+imagestackImag*1j, normScale\n",
    "\n",
    "class mriNoisyDataset(Dataset):\n",
    "    def __init__(self, sample):\n",
    "        self.originalPath = []\n",
    "        self.accelPath = [] \n",
    "\n",
    "        allImages = sorted(glob(\"/study/mrphys/skunkworks/training_data//mover01/*/\", recursive=True))[0:40]\n",
    "        folderName  = allImages[sample]\n",
    "        self.accelPath = folderName +'processed_data/acc_2min/C.h5'\n",
    "        self.accelFile, self.scale = getComplexSlices(self.accelPath)\n",
    "\n",
    "    def __getitem__(self, index):\n",
    "        if index<256:\n",
    "            return self.accelFile[:,index,:,:]\n",
    "        elif index<512:\n",
    "            index = index-256\n",
    "            return self.accelFile[:,:,index,:]\n",
    "        else:\n",
    "            index = index-512\n",
    "            return self.accelFile[:,:,:,index]\n",
    "        \n",
    "    def __len__(self):\n",
    "        return 768"
   ]
  },
  {
   "cell_type": "code",
   "execution_count": 12,
   "id": "b53fd96e",
   "metadata": {},
   "outputs": [],
   "source": [
    "def predict(model, dataset, device = 5):\n",
    "    model.eval()\n",
    "    model.to(device)\n",
    "    X = []\n",
    "    Y = []\n",
    "    Z = []\n",
    "    for i, noisy in enumerate(dataset):\n",
    "        noisy = torch.tensor(noisy).to(device).unsqueeze(0)\n",
    "        with torch.no_grad():\n",
    "            p = model(noisy).cpu().numpy() * dataset.scale\n",
    "            if i<256:\n",
    "                X.append(p)\n",
    "            elif i<512:\n",
    "                Y.append(p)\n",
    "            else:\n",
    "                Z.append(p)\n",
    "                \n",
    "    return np.vstack(X).transpose(1,0,2,3), np.vstack(Y).transpose(1,2,0,3), np.vstack(Z).transpose(1,2,3,0)"
   ]
  },
  {
   "cell_type": "code",
   "execution_count": 13,
   "id": "b96e8135",
   "metadata": {},
   "outputs": [
    {
     "name": "stdout",
     "output_type": "stream",
     "text": [
      "Crop amount [(-4, -4, -4, -4), (-16, -16, -16, -16), (-40, -40, -40, -40)]\n",
      "Crop amount [(-4, -4, -4, -4), (-16, -16, -16, -16), (-40, -40, -40, -40)]\n",
      "Crop amount [(-4, -4, -4, -4), (-16, -16, -16, -16), (-40, -40, -40, -40)]\n",
      "Crop amount [(-4, -4, -4, -4), (-16, -16, -16, -16), (-40, -40, -40, -40)]\n",
      "Crop amount [(-4, -4, -4, -4), (-16, -16, -16, -16), (-40, -40, -40, -40)]\n"
     ]
    },
    {
     "name": "stderr",
     "output_type": "stream",
     "text": [
      "100%|█████████████████████████████████████████████████████████████████████████████████████| 2/2 [02:12<00:00, 66.12s/it]\n",
      "  0%|                                                                                             | 0/2 [00:21<?, ?it/s]\n"
     ]
    },
    {
     "ename": "KeyboardInterrupt",
     "evalue": "",
     "output_type": "error",
     "traceback": [
      "\u001b[0;31m---------------------------------------------------------------------------\u001b[0m",
      "\u001b[0;31mKeyboardInterrupt\u001b[0m                         Traceback (most recent call last)",
      "Cell \u001b[0;32mIn [13], line 39\u001b[0m\n\u001b[1;32m     37\u001b[0m dataset \u001b[38;5;241m=\u001b[39m mriNoisyDataset(index)\n\u001b[1;32m     38\u001b[0m X, Y, Z \u001b[38;5;241m=\u001b[39m predict(model, dataset)\n\u001b[0;32m---> 39\u001b[0m pred \u001b[38;5;241m=\u001b[39m (\u001b[43mX\u001b[49m\u001b[38;5;241;43m+\u001b[39;49m\u001b[43mY\u001b[49m\u001b[38;5;241m+\u001b[39mZ)\u001b[38;5;241m/\u001b[39m\u001b[38;5;241m3\u001b[39m\n\u001b[1;32m     40\u001b[0m np\u001b[38;5;241m.\u001b[39msave(\u001b[38;5;124mf\u001b[39m\u001b[38;5;124m'\u001b[39m\u001b[38;5;124mpred/denoised_\u001b[39m\u001b[38;5;132;01m{\u001b[39;00mindex\u001b[38;5;132;01m}\u001b[39;00m\u001b[38;5;124m.npy\u001b[39m\u001b[38;5;124m'\u001b[39m,np\u001b[38;5;241m.\u001b[39marray(pred))\n",
      "\u001b[0;31mKeyboardInterrupt\u001b[0m: "
     ]
    }
   ],
   "source": [
    "folds = 5\n",
    "kfsplitter = kf(n_splits=folds, shuffle=True, random_state=69420)\n",
    "for i, (train_index, test_index) in enumerate(kfsplitter.split(allImages)):\n",
    "    fold = i+1\n",
    "    model = unet.UNet(\n",
    "        10,\n",
    "        10,\n",
    "        f_maps=32,\n",
    "        layer_order=['separable convolution', 'relu'],\n",
    "        depth=4,\n",
    "        layer_growth=2.0,\n",
    "        residual=True,\n",
    "        complex_input=True,\n",
    "        complex_kernel=True,\n",
    "        ndims=2,\n",
    "        padding=1\n",
    "    )\n",
    "    name = f'fullDenoiser_{fold}'\n",
    "    model.load_state_dict(torch.load(f'/study/mrphys/skunkworks/kk/outputs/{name}/weights/{name}_BEST.pth'))\n",
    "    for index in tqdm(test_index):\n",
    "        dataset = mriNoisyDataset(index)\n",
    "        X, Y, Z = predict(model, dataset)\n",
    "        pred = (X+Y+Z)/3\n",
    "        np.save(f'pred/denoised_{index}.npy',np.array(pred))"
   ]
  },
  {
   "cell_type": "code",
   "execution_count": 22,
   "id": "819f39ca",
   "metadata": {},
   "outputs": [
    {
     "name": "stderr",
     "output_type": "stream",
     "text": [
      "0it [00:00, ?it/s]/tmp/ipykernel_491534/950558215.py:11: ComplexWarning: Casting complex values to real discards the imaginary part\n",
      "  temp = pred.astype(np.dtype([('real','f'),('imag','f')]))\n",
      "64it [02:47,  2.62s/it]\n"
     ]
    }
   ],
   "source": [
    "allImages = sorted(glob('/study/mrphys/skunkworks/kk/pred/denoised_*.npy', recursive=True))\n",
    "try:\n",
    "    os.mkdir('/scratch/mrphys/denoised')\n",
    "except:\n",
    "    pass\n",
    "\n",
    "for i, imgIndex in tqdm(enumerate(range(len(allImages)))):\n",
    "    name = sorted(glob(\"/study/mrphys/skunkworks/training_data//mover01/*/\", recursive=True))[imgIndex].split('/')[-2]\n",
    "    with h5py.File(f'/scratch/mrphys/denoised/denoised_{name}.h5','w') as f:\n",
    "        pred = np.load(f'pred/denoised_{i}.npy')\n",
    "        temp = pred.astype(np.dtype([('real','f'),('imag','f')]))\n",
    "        temp['imag'] = pred.imag\n",
    "        pred = temp\n",
    "        grp = f.create_group('Images')\n",
    "        for n in range(10):\n",
    "            grp.create_dataset('C_000_0'+ str(n).zfill(2), data=pred[n])"
   ]
  },
  {
   "cell_type": "code",
   "execution_count": 19,
   "id": "320f592c",
   "metadata": {},
   "outputs": [
    {
     "data": {
      "text/plain": [
       "['', 'study', 'mrphys', 'skunkworks', 'kk', 'pred', 'denoised_20.npy']"
      ]
     },
     "execution_count": 19,
     "metadata": {},
     "output_type": "execute_result"
    }
   ],
   "source": []
  },
  {
   "cell_type": "code",
   "execution_count": 21,
   "id": "b3fdbbc1",
   "metadata": {},
   "outputs": [
    {
     "data": {
      "text/plain": [
       "'M015'"
      ]
     },
     "execution_count": 21,
     "metadata": {},
     "output_type": "execute_result"
    }
   ],
   "source": []
  },
  {
   "cell_type": "code",
   "execution_count": null,
   "id": "38e514dc",
   "metadata": {},
   "outputs": [],
   "source": []
  }
 ],
 "metadata": {
  "kernelspec": {
   "display_name": "Python 3 (ipykernel)",
   "language": "python",
   "name": "python3"
  },
  "language_info": {
   "codemirror_mode": {
    "name": "ipython",
    "version": 3
   },
   "file_extension": ".py",
   "mimetype": "text/x-python",
   "name": "python",
   "nbconvert_exporter": "python",
   "pygments_lexer": "ipython3",
   "version": "3.9.13"
  }
 },
 "nbformat": 4,
 "nbformat_minor": 5
}
