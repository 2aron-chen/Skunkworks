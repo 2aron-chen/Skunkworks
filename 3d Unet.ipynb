{
 "cells": [
  {
   "cell_type": "code",
   "execution_count": 2,
   "id": "e49e0df0",
   "metadata": {},
   "outputs": [],
   "source": [
    "from torch.utils.data import DataLoader\n",
    "import torch\n",
    "import torch.nn as nn\n",
    "import torch.nn.functional as F\n",
    "import pickle\n",
    "from statistics import median, mean\n",
    "from matplotlib import pyplot as plt\n",
    "import numpy as np\n",
    "import json\n",
    "from tqdm import tqdm\n",
    "from glob import glob\n",
    "import os\n",
    "import sys\n",
    "sys.path.insert(0,\"/study/mrphys/skunkworks/kk/mriUnet\")\n",
    "from fullmodel import fullModel\n",
    "from unet import UNet\n",
    "from torchvision import transforms\n",
    "from torch.utils.data import Dataset\n",
    "from sklearn.model_selection import KFold as kf\n",
    "from pytorch_msssim import ssim, ms_ssim, SSIM, MS_SSIM\n",
    "from mriDataset import mriSliceDataset\n",
    "from smoothing import GaussianSmoothing"
   ]
  },
  {
   "cell_type": "code",
   "execution_count": 3,
   "id": "2fa3a5c4",
   "metadata": {},
   "outputs": [],
   "source": [
    "b = 1\n",
    "nchans = 10\n",
    "f = 16\n",
    "s = 128\n",
    "device = 7\n",
    "\n",
    "model = UNet(\n",
    "    nchans,\n",
    "    nchans,\n",
    "    f_maps=f,\n",
    "    layer_order=['separable convolution', 'relu'],\n",
    "    depth=4,\n",
    "    layer_growth=2.0,\n",
    "    residual=True,\n",
    "    complex_input=True,\n",
    "    complex_kernel=True,\n",
    "    ndims=3,\n",
    "    padding=1\n",
    ")\n",
    "\n",
    "data = torch.randn(b,10,s,s,s) + torch.randn(b,10,s,s,s)*1J\n",
    "\n",
    "model = model.to(device)\n",
    "data = data.to(device)\n",
    "\n",
    "predictions = model(data)"
   ]
  },
  {
   "cell_type": "code",
   "execution_count": 4,
   "id": "47401682",
   "metadata": {},
   "outputs": [],
   "source": [
    "def complex_2d_ssim(pred, true):\n",
    "    ssim_loss_real = (1-ssim(pred.real, true.real, data_range=1, size_average=True))\n",
    "    ssim_loss_imag = (1-ssim(pred.imag, true.imag, data_range=1, size_average=True))\n",
    "    return ssim_loss_real+ssim_loss_imag\n",
    "\n",
    "def complex_3d_ssim(pred_3d, true_3d):\n",
    "    total_loss = 0\n",
    "    for i in range(s):\n",
    "        total_loss += complex_2d_ssim(pred_3d[:,:,i], true_3d[:,:,i])\n",
    "        total_loss += complex_2d_ssim(pred_3d[:,:,:,i], true_3d[:,:,:,i])\n",
    "        total_loss += complex_2d_ssim(pred_3d[:,:,:,:,i], true_3d[:,:,:,:,i])\n",
    "    return total_loss\n",
    "        \n",
    "loss = complex_3d_ssim(predictions, data)"
   ]
  },
  {
   "cell_type": "code",
   "execution_count": 5,
   "id": "01022d2e",
   "metadata": {},
   "outputs": [],
   "source": [
    "loss.backward()"
   ]
  },
  {
   "cell_type": "code",
   "execution_count": 6,
   "id": "4e161242",
   "metadata": {},
   "outputs": [
    {
     "name": "stdout",
     "output_type": "stream",
     "text": [
      "Thu Jun  1 09:47:56 2023       \n",
      "+---------------------------------------------------------------------------------------+\n",
      "| NVIDIA-SMI 530.30.02              Driver Version: 530.30.02    CUDA Version: 12.1     |\n",
      "|-----------------------------------------+----------------------+----------------------+\n",
      "| GPU  Name                  Persistence-M| Bus-Id        Disp.A | Volatile Uncorr. ECC |\n",
      "| Fan  Temp  Perf            Pwr:Usage/Cap|         Memory-Usage | GPU-Util  Compute M. |\n",
      "|                                         |                      |               MIG M. |\n",
      "|=========================================+======================+======================|\n",
      "|   0  Quadro RTX 8000                 Off| 00000000:01:00.0 Off |                  Off |\n",
      "| 33%   34C    P8               21W / 260W|      3MiB / 49152MiB |      0%      Default |\n",
      "|                                         |                      |                  N/A |\n",
      "+-----------------------------------------+----------------------+----------------------+\n",
      "|   1  Quadro RTX 8000                 Off| 00000000:24:00.0 Off |                  Off |\n",
      "| 33%   34C    P8               28W / 260W|      3MiB / 49152MiB |      0%      Default |\n",
      "|                                         |                      |                  N/A |\n",
      "+-----------------------------------------+----------------------+----------------------+\n",
      "|   2  Quadro RTX 8000                 Off| 00000000:41:00.0 Off |                  Off |\n",
      "| 33%   33C    P8               33W / 260W|      3MiB / 49152MiB |      0%      Default |\n",
      "|                                         |                      |                  N/A |\n",
      "+-----------------------------------------+----------------------+----------------------+\n",
      "|   3  Quadro RTX 8000                 Off| 00000000:61:00.0 Off |                  Off |\n",
      "| 33%   32C    P8               33W / 260W|      3MiB / 49152MiB |      0%      Default |\n",
      "|                                         |                      |                  N/A |\n",
      "+-----------------------------------------+----------------------+----------------------+\n",
      "|   4  Quadro RTX 8000                 Off| 00000000:81:00.0 Off |                  Off |\n",
      "| 33%   33C    P8               22W / 260W|      3MiB / 49152MiB |      0%      Default |\n",
      "|                                         |                      |                  N/A |\n",
      "+-----------------------------------------+----------------------+----------------------+\n",
      "|   5  Quadro RTX 8000                 Off| 00000000:A1:00.0 Off |                  Off |\n",
      "| 33%   32C    P8               27W / 260W|      3MiB / 49152MiB |      0%      Default |\n",
      "|                                         |                      |                  N/A |\n",
      "+-----------------------------------------+----------------------+----------------------+\n",
      "|   6  Quadro RTX 8000                 Off| 00000000:C1:00.0 Off |                  Off |\n",
      "| 33%   32C    P8               23W / 260W|      3MiB / 49152MiB |      0%      Default |\n",
      "|                                         |                      |                  N/A |\n",
      "+-----------------------------------------+----------------------+----------------------+\n",
      "|   7  Quadro RTX 8000                 Off| 00000000:E1:00.0 Off |                  Off |\n",
      "| 33%   36C    P2              110W / 260W|  16961MiB / 49152MiB |    100%      Default |\n",
      "|                                         |                      |                  N/A |\n",
      "+-----------------------------------------+----------------------+----------------------+\n",
      "                                                                                         \n",
      "+---------------------------------------------------------------------------------------+\n",
      "| Processes:                                                                            |\n",
      "|  GPU   GI   CI        PID   Type   Process name                            GPU Memory |\n",
      "|        ID   ID                                                             Usage      |\n",
      "|=======================================================================================|\n",
      "|    7   N/A  N/A    286945      C   ...t/.conda/envs/mriDenoise/bin/python    16958MiB |\n",
      "+---------------------------------------------------------------------------------------+\n"
     ]
    }
   ],
   "source": [
    "!nvidia-smi"
   ]
  },
  {
   "cell_type": "code",
   "execution_count": null,
   "id": "4d729ebc",
   "metadata": {},
   "outputs": [],
   "source": []
  }
 ],
 "metadata": {
  "kernelspec": {
   "display_name": "Python 3 (ipykernel)",
   "language": "python",
   "name": "python3"
  },
  "language_info": {
   "codemirror_mode": {
    "name": "ipython",
    "version": 3
   },
   "file_extension": ".py",
   "mimetype": "text/x-python",
   "name": "python",
   "nbconvert_exporter": "python",
   "pygments_lexer": "ipython3",
   "version": "3.9.13"
  }
 },
 "nbformat": 4,
 "nbformat_minor": 5
}
